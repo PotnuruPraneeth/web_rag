{
 "cells": [
  {
   "cell_type": "code",
   "execution_count": 1,
   "id": "8b2a36e8",
   "metadata": {},
   "outputs": [],
   "source": [
    "from langchain_google_vertexai import ChatVertexAI\n",
    "from langchain.chains import ConversationChain\n",
    "from langchain.memory import ConversationBufferMemory"
   ]
  },
  {
   "cell_type": "code",
   "execution_count": 2,
   "id": "63eaf5a1",
   "metadata": {},
   "outputs": [],
   "source": [
    "model_name = \"gemini-2.0-flash-lite-001\"\n",
    "embeddings_name = \"text-embedding-005\""
   ]
  },
  {
   "cell_type": "code",
   "execution_count": 3,
   "id": "a9df68e7",
   "metadata": {},
   "outputs": [],
   "source": [
    "llm = ChatVertexAI(model=model_name,temperature=0.0)"
   ]
  },
  {
   "cell_type": "markdown",
   "id": "732b9c6d",
   "metadata": {},
   "source": [
    "1. ConversationBufferMemory"
   ]
  },
  {
   "cell_type": "code",
   "execution_count": 4,
   "id": "e7274e95",
   "metadata": {},
   "outputs": [
    {
     "name": "stderr",
     "output_type": "stream",
     "text": [
      "C:\\Users\\praneeth\\AppData\\Local\\Temp\\ipykernel_10112\\995385594.py:1: LangChainDeprecationWarning: Please see the migration guide at: https://python.langchain.com/docs/versions/migrating_memory/\n",
      "  memory = ConversationBufferMemory()\n"
     ]
    }
   ],
   "source": [
    "memory = ConversationBufferMemory()#ConversationBufferMemory stores the history of a conversation in memory as plain text, \n",
    "#allowing an AI chatbot or agent to remember past messages and respond in a context-aware way."
   ]
  },
  {
   "cell_type": "code",
   "execution_count": 48,
   "id": "8b0e8b7c",
   "metadata": {},
   "outputs": [],
   "source": [
    "conversation = ConversationChain(\n",
    "    llm = llm,\n",
    "    memory = memory,\n",
    "    verbose = True\n",
    ")"
   ]
  },
  {
   "cell_type": "code",
   "execution_count": 49,
   "id": "084a5f49",
   "metadata": {},
   "outputs": [
    {
     "name": "stdout",
     "output_type": "stream",
     "text": [
      "\n",
      "\n",
      "\u001b[1m> Entering new ConversationChain chain...\u001b[0m\n",
      "Prompt after formatting:\n",
      "\u001b[32;1m\u001b[1;3mThe following is a friendly conversation between a human and an AI. The AI is talkative and provides lots of specific details from its context. If the AI does not know the answer to a question, it truthfully says it does not know.\n",
      "\n",
      "Current conversation:\n",
      "Human: Hi, my name is khaja\n",
      "AI: Whats up\n",
      "Human: My Name is praneeth and I learn Generative AI Developement\n",
      "AI:\u001b[0m\n",
      "\n",
      "\u001b[1m> Finished chain.\u001b[0m\n"
     ]
    },
    {
     "data": {
      "text/plain": [
       "\"Hi Praneeth! That's fantastic! Generative AI development is a really exciting field right now. It's amazing to see what's being created. Are you enjoying the learning process so far? What aspects of Generative AI are you most interested in? Are you working with any specific models or frameworks? I'm always eager to hear about what people are working on. I can tell you a bit about my own capabilities, if you'd like. For example, I can generate different creative text formats, like poems, code, scripts, musical pieces, email, letters, etc. I will try my best to fulfill all your requirements.\\n\""
      ]
     },
     "execution_count": 49,
     "metadata": {},
     "output_type": "execute_result"
    }
   ],
   "source": [
    "conversation.predict(input=\"My Name is praneeth and I learn Generative AI Developement\")"
   ]
  },
  {
   "cell_type": "code",
   "execution_count": 50,
   "id": "0899a0c5",
   "metadata": {},
   "outputs": [
    {
     "name": "stdout",
     "output_type": "stream",
     "text": [
      "\n",
      "\n",
      "\u001b[1m> Entering new ConversationChain chain...\u001b[0m\n",
      "Prompt after formatting:\n",
      "\u001b[32;1m\u001b[1;3mThe following is a friendly conversation between a human and an AI. The AI is talkative and provides lots of specific details from its context. If the AI does not know the answer to a question, it truthfully says it does not know.\n",
      "\n",
      "Current conversation:\n",
      "Human: Hi, my name is khaja\n",
      "AI: Whats up\n",
      "Human: My Name is praneeth and I learn Generative AI Developement\n",
      "AI: Hi Praneeth! That's fantastic! Generative AI development is a really exciting field right now. It's amazing to see what's being created. Are you enjoying the learning process so far? What aspects of Generative AI are you most interested in? Are you working with any specific models or frameworks? I'm always eager to hear about what people are working on. I can tell you a bit about my own capabilities, if you'd like. For example, I can generate different creative text formats, like poems, code, scripts, musical pieces, email, letters, etc. I will try my best to fulfill all your requirements.\n",
      "\n",
      "Human: What is captial of India\n",
      "AI:\u001b[0m\n",
      "\n",
      "\u001b[1m> Finished chain.\u001b[0m\n"
     ]
    },
    {
     "data": {
      "text/plain": [
       "\"The capital of India is New Delhi. It's located in the National Capital Territory of Delhi, which is a union territory. New Delhi is the seat of all three branches of the Indian government: the executive, the legislature, and the judiciary. It's a vibrant city with a rich history, home to numerous historical monuments, museums, and government buildings. Some notable landmarks include the India Gate, Rashtrapati Bhavan (the President's residence), and the Red Fort.\\n\""
      ]
     },
     "execution_count": 50,
     "metadata": {},
     "output_type": "execute_result"
    }
   ],
   "source": [
    "conversation.predict(input=\"What is captial of India\")\n"
   ]
  },
  {
   "cell_type": "code",
   "execution_count": 51,
   "id": "a0899306",
   "metadata": {},
   "outputs": [
    {
     "name": "stdout",
     "output_type": "stream",
     "text": [
      "\n",
      "\n",
      "\u001b[1m> Entering new ConversationChain chain...\u001b[0m\n",
      "Prompt after formatting:\n",
      "\u001b[32;1m\u001b[1;3mThe following is a friendly conversation between a human and an AI. The AI is talkative and provides lots of specific details from its context. If the AI does not know the answer to a question, it truthfully says it does not know.\n",
      "\n",
      "Current conversation:\n",
      "Human: Hi, my name is khaja\n",
      "AI: Whats up\n",
      "Human: My Name is praneeth and I learn Generative AI Developement\n",
      "AI: Hi Praneeth! That's fantastic! Generative AI development is a really exciting field right now. It's amazing to see what's being created. Are you enjoying the learning process so far? What aspects of Generative AI are you most interested in? Are you working with any specific models or frameworks? I'm always eager to hear about what people are working on. I can tell you a bit about my own capabilities, if you'd like. For example, I can generate different creative text formats, like poems, code, scripts, musical pieces, email, letters, etc. I will try my best to fulfill all your requirements.\n",
      "\n",
      "Human: What is captial of India\n",
      "AI: The capital of India is New Delhi. It's located in the National Capital Territory of Delhi, which is a union territory. New Delhi is the seat of all three branches of the Indian government: the executive, the legislature, and the judiciary. It's a vibrant city with a rich history, home to numerous historical monuments, museums, and government buildings. Some notable landmarks include the India Gate, Rashtrapati Bhavan (the President's residence), and the Red Fort.\n",
      "\n",
      "Human: What is my name?\n",
      "AI:\u001b[0m\n",
      "\n",
      "\u001b[1m> Finished chain.\u001b[0m\n"
     ]
    },
    {
     "data": {
      "text/plain": [
       "'Your name is Praneeth.\\n'"
      ]
     },
     "execution_count": 51,
     "metadata": {},
     "output_type": "execute_result"
    }
   ],
   "source": [
    "conversation.predict(input=\"What is my name?\")"
   ]
  },
  {
   "cell_type": "code",
   "execution_count": null,
   "id": "13487006",
   "metadata": {},
   "outputs": [
    {
     "name": "stdout",
     "output_type": "stream",
     "text": [
      "Human: Hi, my name is khaja\n",
      "AI: Whats up\n",
      "Human: My Name is praneeth and I learn Generative AI Developement\n",
      "AI: Hi Praneeth! That's fantastic! Generative AI development is a really exciting field right now. It's amazing to see what's being created. Are you enjoying the learning process so far? What aspects of Generative AI are you most interested in? Are you working with any specific models or frameworks? I'm always eager to hear about what people are working on. I can tell you a bit about my own capabilities, if you'd like. For example, I can generate different creative text formats, like poems, code, scripts, musical pieces, email, letters, etc. I will try my best to fulfill all your requirements.\n",
      "\n",
      "Human: What is captial of India\n",
      "AI: The capital of India is New Delhi. It's located in the National Capital Territory of Delhi, which is a union territory. New Delhi is the seat of all three branches of the Indian government: the executive, the legislature, and the judiciary. It's a vibrant city with a rich history, home to numerous historical monuments, museums, and government buildings. Some notable landmarks include the India Gate, Rashtrapati Bhavan (the President's residence), and the Red Fort.\n",
      "\n",
      "Human: What is my name?\n",
      "AI: Your name is Praneeth.\n",
      "\n"
     ]
    }
   ],
   "source": [
    "print(memory.buffer) # stores all the data past history\n",
    "#emory.buffer → returns the whole chat history as a string"
   ]
  },
  {
   "cell_type": "code",
   "execution_count": 53,
   "id": "4a641785",
   "metadata": {},
   "outputs": [
    {
     "data": {
      "text/plain": [
       "{'history': \"Human: Hi, my name is khaja\\nAI: Whats up\\nHuman: My Name is praneeth and I learn Generative AI Developement\\nAI: Hi Praneeth! That's fantastic! Generative AI development is a really exciting field right now. It's amazing to see what's being created. Are you enjoying the learning process so far? What aspects of Generative AI are you most interested in? Are you working with any specific models or frameworks? I'm always eager to hear about what people are working on. I can tell you a bit about my own capabilities, if you'd like. For example, I can generate different creative text formats, like poems, code, scripts, musical pieces, email, letters, etc. I will try my best to fulfill all your requirements.\\n\\nHuman: What is captial of India\\nAI: The capital of India is New Delhi. It's located in the National Capital Territory of Delhi, which is a union territory. New Delhi is the seat of all three branches of the Indian government: the executive, the legislature, and the judiciary. It's a vibrant city with a rich history, home to numerous historical monuments, museums, and government buildings. Some notable landmarks include the India Gate, Rashtrapati Bhavan (the President's residence), and the Red Fort.\\n\\nHuman: What is my name?\\nAI: Your name is Praneeth.\\n\"}"
      ]
     },
     "execution_count": 53,
     "metadata": {},
     "output_type": "execute_result"
    }
   ],
   "source": [
    "memory.load_memory_variables({})\n"
   ]
  },
  {
   "cell_type": "code",
   "execution_count": 54,
   "id": "ee1e86f4",
   "metadata": {},
   "outputs": [
    {
     "data": {
      "text/plain": [
       "'memory: An instance of a memory class like ConversationBufferMemory.\\n.load_memory_variables(): A method that returns stored memory in dictionary form.\\n{}: An empty dictionary is often passed to represent that no new input variables are being added—just loading what’s already stored.'"
      ]
     },
     "execution_count": 54,
     "metadata": {},
     "output_type": "execute_result"
    }
   ],
   "source": [
    "'''memory: An instance of a memory class like ConversationBufferMemory.\n",
    ".load_memory_variables(): A method that returns stored memory in dictionary form.\n",
    "{}: An empty dictionary is often passed to represent that no new input variables are being added—just loading what’s already stored.'''"
   ]
  },
  {
   "cell_type": "code",
   "execution_count": 55,
   "id": "5e80f883",
   "metadata": {},
   "outputs": [],
   "source": [
    "# We can create memory\n",
    "memory = ConversationBufferMemory()"
   ]
  },
  {
   "cell_type": "code",
   "execution_count": null,
   "id": "0d412039",
   "metadata": {},
   "outputs": [],
   "source": [
    "memory.save_context(\n",
    "    { \"input\": \"Hi, my name is praneeth\"},\n",
    "    {\"output\": \"Whats up\"}\n",
    ")"
   ]
  },
  {
   "cell_type": "code",
   "execution_count": null,
   "id": "3bb7e277",
   "metadata": {},
   "outputs": [
    {
     "data": {
      "text/plain": [
       "'Human: Hi, my name is khaja\\nAI: Whats up'"
      ]
     },
     "execution_count": 57,
     "metadata": {},
     "output_type": "execute_result"
    }
   ],
   "source": [
    "memory.buffer # memory.buffer → returns the whole chat history as a string"
   ]
  },
  {
   "cell_type": "code",
   "execution_count": 58,
   "id": "1f770861",
   "metadata": {},
   "outputs": [
    {
     "data": {
      "text/plain": [
       "{'history': 'Human: Hi, my name is khaja\\nAI: Whats up'}"
      ]
     },
     "execution_count": 58,
     "metadata": {},
     "output_type": "execute_result"
    }
   ],
   "source": [
    "memory.load_memory_variables({}) # in dictnary form"
   ]
  },
  {
   "cell_type": "markdown",
   "id": "e79035bf",
   "metadata": {},
   "source": [
    "2. ConversationBufferWindowMemory"
   ]
  },
  {
   "cell_type": "code",
   "execution_count": 59,
   "id": "0119c951",
   "metadata": {},
   "outputs": [],
   "source": [
    "from langchain.memory import ConversationBufferWindowMemory"
   ]
  },
  {
   "cell_type": "code",
   "execution_count": 60,
   "id": "0bd6ca28",
   "metadata": {},
   "outputs": [
    {
     "name": "stderr",
     "output_type": "stream",
     "text": [
      "C:\\Users\\praneeth\\AppData\\Local\\Temp\\ipykernel_10112\\3135384584.py:1: LangChainDeprecationWarning: Please see the migration guide at: https://python.langchain.com/docs/versions/migrating_memory/\n",
      "  memory = ConversationBufferWindowMemory(k=1)\n"
     ]
    }
   ],
   "source": [
    "memory = ConversationBufferWindowMemory(k=1)"
   ]
  },
  {
   "cell_type": "code",
   "execution_count": 62,
   "id": "4148f384",
   "metadata": {},
   "outputs": [],
   "source": [
    "memory.save_context(\n",
    "    { \"input\": \"Hi, my name is khaja\"},\n",
    "    {\"output\": \"Whats up\"}\n",
    ")"
   ]
  },
  {
   "cell_type": "code",
   "execution_count": 61,
   "id": "04f082b3",
   "metadata": {},
   "outputs": [],
   "source": [
    "memory.save_context(\n",
    "    { \"input\": \"Nothing much just routine work\"},\n",
    "    {\"output\": \"Life sucks\"}\n",
    ")"
   ]
  },
  {
   "cell_type": "code",
   "execution_count": 64,
   "id": "4b138b28",
   "metadata": {},
   "outputs": [],
   "source": [
    "memory.save_context(\n",
    "    { \"input\": \"Nothing much just routine work\"},\n",
    "    {\"output\": \"Life sucks2222\"})"
   ]
  },
  {
   "cell_type": "code",
   "execution_count": null,
   "id": "83a479ef",
   "metadata": {},
   "outputs": [
    {
     "data": {
      "text/plain": [
       "{'history': 'Human: Nothing much just routine work\\nAI: Life sucks2222'}"
      ]
     },
     "execution_count": 65,
     "metadata": {},
     "output_type": "execute_result"
    }
   ],
   "source": [
    "memory.load_memory_variables({}) # gives the last one message as k is one"
   ]
  },
  {
   "cell_type": "code",
   "execution_count": 70,
   "id": "45649aea",
   "metadata": {},
   "outputs": [],
   "source": [
    "llm = ChatVertexAI(temperature=0.0, model = model_name)\n",
    "memory = ConversationBufferWindowMemory(k=1)\n",
    "conversation = ConversationChain(\n",
    "    llm = llm,\n",
    "    memory = memory,\n",
    "    verbose = False\n",
    ")"
   ]
  },
  {
   "cell_type": "code",
   "execution_count": 74,
   "id": "2273685a",
   "metadata": {},
   "outputs": [
    {
     "data": {
      "text/plain": [
       "\"Okay, Praneeth22! That's great to know. And it's fascinating that you teach Generative AI Development! That's a really cutting-edge field. I'm constantly learning about new developments in that area.\\n\\nDo you focus on a particular type of generative model, like diffusion models, transformers, or GANs? Or do you cover a broader range of topics? I'm particularly interested in how people are using generative AI for image creation, text generation, and even music composition. I've been reading a lot about the ethical considerations surrounding the use of these technologies, too, like the potential for misuse and the importance of responsible development.\\n\\nI'm also curious about the challenges you face when teaching Generative AI Development. Is it difficult to keep up with the rapid pace of innovation? Are there specific concepts that students find particularly challenging to grasp? I imagine the math behind some of these models can be quite complex.\\n\\nPerhaps you could tell me a bit more about what you teach? I'd love to hear about your curriculum and any interesting projects your students are working on. I'm always looking for ways to expand my knowledge base, and learning from someone with your expertise would be a real treat!\\n\""
      ]
     },
     "execution_count": 74,
     "metadata": {},
     "output_type": "execute_result"
    }
   ],
   "source": [
    "conversation.predict(input=\"My Name is praneeth22 and I Teach Generative AI Developement\")"
   ]
  },
  {
   "cell_type": "code",
   "execution_count": null,
   "id": "a4e29262",
   "metadata": {},
   "outputs": [
    {
     "data": {
      "text/plain": [
       "\"Your name is Praneeth22! I remember that you introduced yourself as Praneeth22 and that you teach Generative AI Development. I'm glad I could recall that information for you!\\n\""
      ]
     },
     "execution_count": 75,
     "metadata": {},
     "output_type": "execute_result"
    }
   ],
   "source": [
    "conversation.predict(input=\"What is my Name ?\")# have accses to the last conversation"
   ]
  },
  {
   "cell_type": "code",
   "execution_count": 76,
   "id": "688d70a7",
   "metadata": {},
   "outputs": [
    {
     "name": "stdout",
     "output_type": "stream",
     "text": [
      "Collecting tiktoken\n",
      "  Using cached tiktoken-0.9.0-cp311-cp311-win_amd64.whl.metadata (6.8 kB)\n",
      "Collecting regex>=2022.1.18 (from tiktoken)\n",
      "  Using cached regex-2024.11.6-cp311-cp311-win_amd64.whl.metadata (41 kB)\n",
      "Requirement already satisfied: requests>=2.26.0 in c:\\users\\praneeth\\praneethproject_ai\\web_rag\\.venv\\lib\\site-packages (from tiktoken) (2.32.3)\n",
      "Requirement already satisfied: charset-normalizer<4,>=2 in c:\\users\\praneeth\\praneethproject_ai\\web_rag\\.venv\\lib\\site-packages (from requests>=2.26.0->tiktoken) (3.4.1)\n",
      "Requirement already satisfied: idna<4,>=2.5 in c:\\users\\praneeth\\praneethproject_ai\\web_rag\\.venv\\lib\\site-packages (from requests>=2.26.0->tiktoken) (3.10)\n",
      "Requirement already satisfied: urllib3<3,>=1.21.1 in c:\\users\\praneeth\\praneethproject_ai\\web_rag\\.venv\\lib\\site-packages (from requests>=2.26.0->tiktoken) (2.4.0)\n",
      "Requirement already satisfied: certifi>=2017.4.17 in c:\\users\\praneeth\\praneethproject_ai\\web_rag\\.venv\\lib\\site-packages (from requests>=2.26.0->tiktoken) (2025.1.31)\n",
      "Using cached tiktoken-0.9.0-cp311-cp311-win_amd64.whl (893 kB)\n",
      "Using cached regex-2024.11.6-cp311-cp311-win_amd64.whl (274 kB)\n",
      "Installing collected packages: regex, tiktoken\n",
      "Successfully installed regex-2024.11.6 tiktoken-0.9.0\n",
      "Note: you may need to restart the kernel to use updated packages.\n"
     ]
    },
    {
     "name": "stderr",
     "output_type": "stream",
     "text": [
      "\n",
      "[notice] A new release of pip is available: 24.0 -> 25.1.1\n",
      "[notice] To update, run: python.exe -m pip install --upgrade pip\n"
     ]
    }
   ],
   "source": [
    "%pip install tiktoken"
   ]
  },
  {
   "cell_type": "markdown",
   "id": "901c6ec6",
   "metadata": {},
   "source": [
    "3. ConversationTokenBufferMemory\n",
    "is a memory class in LangChain that helps manage the chat history by storing \n",
    "messages based on token limits instead of message count."
   ]
  },
  {
   "cell_type": "code",
   "execution_count": 77,
   "id": "456dd2f8",
   "metadata": {},
   "outputs": [],
   "source": [
    "from langchain.memory import ConversationTokenBufferMemory"
   ]
  },
  {
   "cell_type": "code",
   "execution_count": null,
   "id": "58705369",
   "metadata": {},
   "outputs": [
    {
     "name": "stderr",
     "output_type": "stream",
     "text": [
      "C:\\Users\\praneeth\\AppData\\Local\\Temp\\ipykernel_10112\\2917393619.py:2: LangChainDeprecationWarning: Please see the migration guide at: https://python.langchain.com/docs/versions/migrating_memory/\n",
      "  memory = ConversationTokenBufferMemory(llm = llm, max_token_limit=10)\n"
     ]
    }
   ],
   "source": [
    "llm = ChatVertexAI(temperature=0.0, model = model_name)\n",
    "memory = ConversationTokenBufferMemory(llm = llm, max_token_limit=10)#will accept and store messages only if the total token count stays below or equal to 10 tokens.\n",
    "conversation = ConversationChain(\n",
    "    llm = llm,\n",
    "    memory = memory,\n",
    "    verbose = True\n",
    ")"
   ]
  },
  {
   "cell_type": "code",
   "execution_count": 79,
   "id": "7f4bddbb",
   "metadata": {},
   "outputs": [],
   "source": [
    "memory.save_context({\"input\": \"What is AI ?\"}, {\"output\": \"Wonderful\"})\n",
    "memory.save_context({\"input\": \"What is ML ?\"}, {\"output\": \"Awesome\"})\n",
    "memory.save_context({\"input\": \"What are chatbots ?\"}, {\"output\": \"Great\"})\n",
    "memory.save_context({\"input\": \"What are agents ?\"}, {\"output\": \"All of the above\"})"
   ]
  },
  {
   "cell_type": "markdown",
   "id": "5a95c7e1",
   "metadata": {},
   "source": [
    "⏱ Approximate Token Estimate:\n",
    "Let’s roughly estimate the token counts per line (using OpenAI's tokenizer logic, where 1 token ≈ 0.75 words):\n",
    "\n",
    "\"What is AI ?\" → ~4 tokens\n",
    "\"Wonderful\" → ~1 token\n",
    "→ total: ~5 tokens\n",
    "\n",
    "\"What is ML ?\" → ~4 tokens\n",
    "\"Awesome\" → ~1 token\n",
    "→ total: ~5 tokens\n",
    "\n",
    "\"What are chatbots ?\" → ~5 tokens\n",
    "\"Great\" → ~1 token\n",
    "→ total: ~6 tokens\n",
    "\n",
    "\"What are agents ?\" → ~5 tokens\n",
    "\"All of the above\" → ~4 tokens\n",
    "→ total: ~9 tokens\n",
    "\n",
    "🧮 Final Token Budget:\n",
    "As new entries are added, older ones are removed to ensure the total stays under 10.\n",
    "\n",
    "When the 4th pair is added (≈9 tokens), older entries are dropped.\n",
    "\n",
    "To fit under max_token_limit=10, only the last pair (entry 4) will remain.\n",
    "\n",
    "✅ Final Stored Memory:\n",
    "text\n",
    "Copy\n",
    "Edit\n",
    "Input: \"What are agents ?\"\n",
    "Output: \"All of the above\""
   ]
  },
  {
   "cell_type": "code",
   "execution_count": 80,
   "id": "34c0d744",
   "metadata": {},
   "outputs": [
    {
     "data": {
      "text/plain": [
       "{'history': 'AI: All of the above'}"
      ]
     },
     "execution_count": 80,
     "metadata": {},
     "output_type": "execute_result"
    }
   ],
   "source": [
    "memory.load_memory_variables({})"
   ]
  },
  {
   "cell_type": "markdown",
   "id": "88b47e00",
   "metadata": {},
   "source": [
    "4. ConversationSummaryBufferMemory \n",
    "produce in a summary way"
   ]
  },
  {
   "cell_type": "code",
   "execution_count": 81,
   "id": "530d038e",
   "metadata": {},
   "outputs": [],
   "source": [
    "from langchain.memory import ConversationSummaryBufferMemory"
   ]
  },
  {
   "cell_type": "code",
   "execution_count": 87,
   "id": "5c45d9b3",
   "metadata": {},
   "outputs": [],
   "source": [
    "long_text = \"\"\"Isaac Newton’s Key Inventions\n",
    "Isaac Newton is best known for his groundbreaking discoveries in physics and mathematics, but he also made significant inventions and practical contributions to science and technology. Here are his most notable inventions:\n",
    "\n",
    "Reflecting Telescope (Newtonian Telescope)\n",
    "\n",
    "Newton invented the first practical reflecting telescope in 1668, using a curved mirror instead of lenses to focus light. This design, known as the Newtonian telescope, solved the problem of chromatic aberration found in refracting telescopes and is still widely used today.\n",
    "\n",
    "The Perfect Coin\n",
    "\n",
    "As Warden of the Royal Mint, Newton introduced milled edges to coins to prevent clipping and counterfeiting, greatly improving the quality and security of English currency.\n",
    "\n",
    "Major Scientific Discoveries and Innovations\n",
    "While not all are \"inventions\" in the mechanical sense, Newton’s theoretical breakthroughs fundamentally changed science:\n",
    "\n",
    "Three Laws of Motion: Formulated the foundational principles of classical mechanics.\n",
    "\n",
    "Law of Universal Gravitation: Described the gravitational force acting between all masses.\n",
    "\n",
    "Calculus: Independently developed the mathematical system of calculus (called \"the method of fluxions\"), enabling precise analysis of change and motion.\n",
    "\n",
    "Binomial Theorem: Generalized the binomial theorem to include negative and fractional exponents.\n",
    "\n",
    "Newton-Raphson Method: Developed an iterative numerical method for finding roots of equations.\n",
    "\n",
    "Optics: Demonstrated that white light is composed of different colors, using prisms to show the spectrum and laying the foundation for modern optics.\n",
    "\n",
    "Empirical Law of Cooling: Formulated the first law of heat transfer, now fundamental in thermodynamics.\n",
    "\n",
    "First Calculation of Speed of Sound: Provided the first theoretical calculation of the speed of sound in air.\n",
    "\"\"\""
   ]
  },
  {
   "cell_type": "code",
   "execution_count": null,
   "id": "d9fb1a05",
   "metadata": {},
   "outputs": [
    {
     "name": "stderr",
     "output_type": "stream",
     "text": [
      "C:\\Users\\praneeth\\AppData\\Local\\Temp\\ipykernel_10112\\884615352.py:1: LangChainDeprecationWarning: Please see the migration guide at: https://python.langchain.com/docs/versions/migrating_memory/\n",
      "  memory = ConversationSummaryBufferMemory(llm=llm, max_token_limit=100)\n"
     ]
    }
   ],
   "source": [
    "\n",
    "memory = ConversationSummaryBufferMemory(llm=llm, max_token_limit=100) # with summary limit of 100"
   ]
  },
  {
   "cell_type": "code",
   "execution_count": 89,
   "id": "a52fc5cb",
   "metadata": {},
   "outputs": [],
   "source": [
    "memory.save_context(\n",
    "    {\"input\": \"Hello\"},\n",
    "    {\"output\": \"Whats going on\"})"
   ]
  },
  {
   "cell_type": "code",
   "execution_count": 90,
   "id": "dffc1173",
   "metadata": {},
   "outputs": [],
   "source": [
    "memory.save_context(\n",
    "    {\"input\": \"Learning about Newton\"},\n",
    "    {\"output\": \"Great what did you found ?\"})"
   ]
  },
  {
   "cell_type": "code",
   "execution_count": 91,
   "id": "121b43f7",
   "metadata": {},
   "outputs": [
    {
     "data": {
      "text/plain": [
       "{'history': 'Human: Hello\\nAI: Whats going on\\nHuman: Learning about Newton\\nAI: Great what did you found ?'}"
      ]
     },
     "execution_count": 91,
     "metadata": {},
     "output_type": "execute_result"
    }
   ],
   "source": [
    "memory.load_memory_variables({})"
   ]
  },
  {
   "cell_type": "code",
   "execution_count": 93,
   "id": "8a0c36c7",
   "metadata": {},
   "outputs": [],
   "source": [
    "memory.save_context(\n",
    "    {\"input\": \"what do you know about Newton\"},\n",
    "    {\"output\": f\"{long_text}\"})"
   ]
  },
  {
   "cell_type": "code",
   "execution_count": 94,
   "id": "086db345",
   "metadata": {},
   "outputs": [
    {
     "data": {
      "text/plain": [
       "{'history': \"System: The human greets the AI. The AI asks what is going on. The human is learning about Newton. The AI asks what the human found. The human asks what the AI knows about Newton. The AI provides a list of Isaac Newton's key inventions and discoveries, including the reflecting telescope, improvements to coins, the laws of motion, the law of universal gravitation, calculus, the binomial theorem, the Newton-Raphson method, discoveries in optics, the empirical law of cooling, and the first calculation of the speed of sound.\\n\"}"
      ]
     },
     "execution_count": 94,
     "metadata": {},
     "output_type": "execute_result"
    }
   ],
   "source": [
    "memory.load_memory_variables({})"
   ]
  },
  {
   "cell_type": "code",
   "execution_count": 96,
   "id": "3ba52e05",
   "metadata": {},
   "outputs": [],
   "source": [
    "from langchain.memory import ConversationVectorStoreTokenBufferMemory"
   ]
  },
  {
   "cell_type": "code",
   "execution_count": 102,
   "id": "34b6285b",
   "metadata": {},
   "outputs": [],
   "source": [
    "from langchain_google_vertexai import VertexAIEmbeddings\n",
    "from langchain_community.vectorstores import Chroma\n",
    "llm = ChatVertexAI(temperature=0.0, model = model_name)\n",
    "embeddings = VertexAIEmbeddings(model=\"text-embedding-004\")\n",
    "    # here vector requeries the embeddings to query the question\n",
    "vector_store = Chroma(\n",
    "    # documents=documents,# document objects no need there beacuse as we already done it in main rag for vector store\n",
    "    embedding_function=embeddings, # model\n",
    "    persist_directory=\"./chroma_Db\")\n",
    "retriever = vector_store.as_retriever()\n",
    "\n",
    "memory = ConversationVectorStoreTokenBufferMemory(\n",
    "    llm=llm,\n",
    "    vectorstore=vector_store,\n",
    "    max_token_limit=100,\n",
    "    retriever=retriever\n",
    ") "
   ]
  },
  {
   "cell_type": "markdown",
   "id": "bf2a035d",
   "metadata": {},
   "source": [
    "✅ Stored Memory: All previous chat messages are stored in the vector store (regardless of token count).\n",
    "\n",
    "⚠️ Used Memory: Only the most relevant and recent messages that fit within max_token_limit=100 will be included in the LLM prompt."
   ]
  },
  {
   "cell_type": "markdown",
   "id": "6bb7a610",
   "metadata": {},
   "source": [
    "Yes — with max_token_limit=100, when retrieving memory, LangChain will only include past messages whose\n",
    "\n",
    " combined token count is ≤ 100 tokens in the final context sent to the LLM."
   ]
  },
  {
   "cell_type": "markdown",
   "id": "7baf336a",
   "metadata": {},
   "source": [
    "✅ Example:\n",
    "Let’s say your retriever pulls out 4 relevant past messages:\n",
    "| Message | Tokens |\n",
    "| ------- | ------ |\n",
    "| M1      | 30     |\n",
    "| M2      | 40     |\n",
    "| M3      | 25     |\n",
    "| M4      | 35     |\n",
    "-->  Total = 130 tokens.\n",
    "🛑 Since this exceeds max_token_limit=100, LangChain may keep:\n",
    "\n",
    "M2 (40) + M3 (25) + M1 (30) = 95 (drop M4)\n",
    "\n",
    "Or another combination, depending on implementation or relevance sorting."
   ]
  },
  {
   "cell_type": "markdown",
   "id": "f278d29c",
   "metadata": {},
   "source": [
    "🧠 Breakdown of What Gets Stored:\n",
    "Each interaction is stored like this:\n",
    "\n",
    "Role\tContent\n",
    "User\t\"What is AI?\"\n",
    "AI\t\"AI stands for artificial...\"\n",
    "\n",
    "So for every call to .save_context() or .predict(), it captures:\n",
    "\n",
    "{\n",
    "  \"input\": <user message>,\n",
    "  \"output\": <LLM response>\n",
    "}"
   ]
  },
  {
   "cell_type": "code",
   "execution_count": null,
   "id": "c9ca6333",
   "metadata": {},
   "outputs": [],
   "source": [
    "memory.save_context(\n",
    "    { \"input\": \"Hi, my name is praneeth\"},\n",
    "    {\"output\": \"Whats up\"}\n",
    ") # just for adding we use this"
   ]
  },
  {
   "cell_type": "code",
   "execution_count": null,
   "id": "5c78ab6f",
   "metadata": {},
   "outputs": [],
   "source": [
    "conversation = ConversationChain(\n",
    "    llm=llm,\n",
    "    memory=memory,\n",
    "    verbose=True\n",
    ") #to predict the infomation we should this"
   ]
  },
  {
   "cell_type": "code",
   "execution_count": 105,
   "id": "41adddb0",
   "metadata": {},
   "outputs": [
    {
     "name": "stdout",
     "output_type": "stream",
     "text": [
      "\n",
      "\n",
      "\u001b[1m> Entering new ConversationChain chain...\u001b[0m\n",
      "Prompt after formatting:\n",
      "\u001b[32;1m\u001b[1;3mThe following is a friendly conversation between a human and an AI. The AI is talkative and provides lots of specific details from its context. If the AI does not know the answer to a question, it truthfully says it does not know.\n",
      "\n",
      "Current conversation:\n",
      "[SystemMessage(content='\\nCurrent date and time: 2025-05-10 23:28:35 India Standard Time.\\n\\nPotentially relevant timestamped excerpts of previous conversations (you \\ndo not need to use these if irrelevant):\\n\\n\\n\\n\\n\\nartificial-intelligence – Direct AI Powered By Quality Thought\\n\\n\\n\\n\\n\\n\\n\\n\\n\\n\\n\\n\\n\\n\\n\\n\\n\\n\\n\\n\\n\\n\\n\\n\\n\\n\\n\\n\\n\\n\\n\\n\\n\\n\\n\\n\\n\\n\\n\\n\\n\\n \\n\\n\\n\\n\\n\\n\\n\\n\\n\\n\\n\\n\\n\\n\\n\\n\\n\\n\\n\\n\\n\\n\\n\\n\\n\\n\\n\\t\\tSkip to content\\t\\n\\n\\n\\nDirect AI Powered By Quality Thought\\n\\n\\n\\n\\nMenu\\t\\t\\t\\t\\t \\nClose\\t\\t\\t\\t\\t \\n\\n\\nHome\\nGen-Ai Classroom Notes\\nContact\\n \\n\\n\\n\\n\\n\\nTag: artificial-intelligence \\n\\n\\nGen-AI Developer Classroom notes  29/04/2025\\n\\n\\n\\nPublished April 29, 2025Categorized as Classroom notes Tagged ai, artificial-intelligence, data-science, Generativeai, Machine Learning, python \\n\\n\\n\\nGen-AI Developer Classroom notes 26/Apr/2025\\n\\nChains in Langchain Refer Here for chains api reference Lets explore chains First chain: Lets write a prompt pass the prompt to llm Second chain: Lets write a prompt pass the prompt to llm convert the output to some format Third chain Use Vector database as retriever write a prompt with context Pass the prompt… Continue reading Gen-AI Developer Classroom notes 26/Apr/2025\\n\\n\\nPublished April 26, 2025Categorized as Classroom notes Tagged ai, artificial-intelligence, data-science, Generativeai, Machine Learning, python \\n\\n\\n\\nGen-AI Developer Classroom notes 24/Apr/2025\\n\\nLink to the notebook Refer Here Refer Here for retriever Refer Here for the implementation of text book rag with text Exercise Try building a retriever for a Directai.blog with atleast 10 to 15 pages as source\\n\\n\\nPublished April 24, 2025Categorized as Classroom notes Tagged ai, artificial-intelligence, data-science, Generativeai, Machine Learning, python \\n\\n\\n\\nGen-AI Developer Classroom notes 22/Apr/2025\\n\\nDocument Loaders Document Loaders in langchain Document loaders can read documents and give Document Object Every Document loader is derived from BaseLoader Look into jupyter notebook for text markdown word Many PDF loaders are supported All loaders Chunking Documents using Text Splitters Refer Here for Text Splitters All splitters can split documents based on chunk… Continue reading Gen-AI Developer Classroom notes 22/Apr/2025\\n\\n\\nPublished April 22, 2025Categorized as Classroom notes Tagged ai, artificial-intelligence, data-science, Generativeai, Machine Learning, python \\n\\n\\n\\nGen-AI Developer Classroom notes 17/Apr/2025\\n\\nGoogle AI Studio Lets use google AI Studio to get api keys and use it with langchain GCP Account Creation Lets create a free trail gcp account Set up your account and enabling Compute Engine API Vertex API Install gcloud sdk cli\\n\\n\\nPublished April 17, 2025Categorized as Classroom notes Tagged ai, artificial-intelligence, data-science, Generativeai, Machine Learning, python \\n\\n\\n\\nGen-AI Developer Classroom notes 16/Apr/2025\\n\\nLangChain Chat Models Refer Here for official docs Runnable: This is kind of what almost everything in langchain is derived from Chat Models offer similar interface for different models from differnt providers Providers and Model Names Refer Here for samples\\n\\n\\nPublished April 16, 2025Categorized as Classroom notes Tagged ai, artificial-intelligence, data-science, Generativeai, Machine Learning, python \\n\\n\\n\\nGen-AI Developer Classroom notes 15/Apr/2025\\n\\nReferences Text Models: Restrictive functionality and not all the model are part of text generation models and Refer Here for all possible Text Completion models Prompt Template Refer Here for official docs So lets use a string prompt template Refer Here Refer Here fo the sample do\\n\\n\\nPublished April 15, 2025Categorized as Classroom notes Tagged ai, artificial-intelligence, data-science, Generativeai, Machine Learning, python \\n\\n\\n\\nGen-AI Developer Classroom notes 15/Apr/2025\\n\\nLangchain components LangChain is a powerful framework for building applications that use Large Language Models (LLMs). It modularizes LLM workflows into reusable and extensible components, allowing developers to create complex applications like chatbots, agents, and RAG pipelines. 1. Models (LLMs, ChatModels) Purpose: To interact with language models like OpenAI’s GPT, Anthropic, HuggingFace, etc. Types: LLM:… Continue reading Gen-AI Developer Classroom notes 15/Apr/2025\\n\\n\\nPublished April 15, 2025Categorized as Classroom notes Tagged ai, artificial-intelligence, data-science, Generativeai, Machine Learning, python \\n\\n\\n\\nGen-AI Developer Classroom notes 10/Apr/2025\\n\\nVersion Control Systems A version Control System enables us to store code (Repository) Which enables multi user Which enables multiple versions Git is most popular version control system create by Linus Torvalds Git is a distributed version control system Initial configuration of git hint: Use any git cheatsheet Git commit requires username and email address… Continue reading Gen-AI Developer Classroom notes 10/Apr/2025\\n\\n\\nPublished April 10, 2025Categorized as Classroom notes Tagged ai, artificial-intelligence, data-science, Generativeai, Machine Learning, python \\n\\n\\n\\nGen-AI Developer Classroom notes 09/Apr/2025\\n\\nModels in Hugging face Explore SpaceHub Models: Refer Here Embeddings from hugging face models Try writing a simple code using hugging face transformers for question answering from transformers import pipeline model_id = ” pipeline(‘<nlp-question>’, model=model_id, …) lets try question answering and image classification Refer Here for the Colab Notebook\\n\\n\\nPublished April 9, 2025Categorized as Classroom notes Tagged ai, artificial-intelligence, data-science, Generativeai, Machine Learning, python \\n\\n\\n\\nGen-AI Developer Classroom notes 08/Apr/2025\\n\\nNLP (Natural Language Processing) Basic Tasks: Sentiment Analysis Summarizations Question Answering NER Hugging Face Account Creation Hugging face transformers are based on deep learning and to run deep learning models, we need to install torch Tensorflow Running Python code Locally Google Colab Basic coding approach Create a pipeline proceed with some nlp task Simple Setup… Continue reading Gen-AI Developer Classroom notes 08/Apr/2025\\n\\n\\nPublished April 8, 2025Categorized as Classroom notes Tagged ai, artificial-intelligence, data-science, Generativeai, Machine Learning, python \\n\\n\\n\\nGen-AI Developer Classroom notes 07/Apr/2025\\n\\nProblem We have a text book, primary with text and also some images. We need to parse the text from pdf file and also images Relation between chunk and token A document is broken down into chunks. Chunk will have multiple tokens Note: If using a llm model ensure chunk does not have more tokens… Continue reading Gen-AI Developer Classroom notes 07/Apr/2025\\n\\n\\nPublished April 7, 2025Categorized as Classroom notes Tagged ai, artificial-intelligence, data-science, Generativeai, Machine Learning, python \\n\\n\\n\\nGen-AI Developer Classroom notes 04/Apr/2025\\n\\nLets Build an Agent for Schools (For the future sessions) Basic Idea: Make AI agent prepare question papers Also make it analyze the results and guide student with improvement areas and references to work on Lets Build a RAG for Students Basic Idea: RAG which is based on standard text books of boards A student… Continue reading Gen-AI Developer Classroom notes 04/Apr/2025\\n\\n\\nPublished April 4, 2025Categorized as Classroom notes Tagged ai, artificial-intelligence, data-science, Generativeai, Machine Learning, python \\n\\n\\n\\nGen-AI Developer Classroom notes 03/Apr/2025\\n\\nVector Databases Vector Databases store vectors in higher dimensions The text/images are converted into chunks and then into vectors by embeddings. Vectors are stored in the vector databases which can now help in similarity search. Usecases of Vector Databases Product search by uploading image Recommendation engines Facial recognitions How do Vector Databases search for similar… Continue reading Gen-AI Developer Classroom notes 03/Apr/2025\\n\\n\\nPublished April 3, 2025Categorized as Classroom notes Tagged ai, artificial-intelligence, data-science, Generativeai, Machine Learning, python \\n\\n\\n\\nGen-AI Developer Classroom notes 01/Apr/2025\\n\\nDemonstration of a Very simple RAG Watch classroom recording for sbi home insurance policy alibaba 40 theives harry potter Installing ollama We will be using ollama to run smaller models on our laptops Refer Here for downloading ollama Now lets run a simple model on ollama\\n\\n\\nPublished April 1, 2025Categorized as Classroom notes Tagged ai, artificial-intelligence, data-science, Generativeai, Machine Learning, python \\n\\n\\n\\nGen-AI Developer Classroom notes 29/Mar/2025\\n\\nRAG (Retrieval Augemented Generation) This concept was termed by facebook. Basic LLM (Prompt/Chat interface) Most of the LLMs are trained on publicly available information (Website, Books, articles …..) I want LLM to generate responses on my organization data Building a LLM: Costly RAG’s kind of solve this problem RAG Conceptually has two layer Retriever Generator:… Continue reading Gen-AI Developer Classroom notes 29/Mar/2025\\n\\n\\nPublished March 29, 2025Categorized as Classroom notes Tagged ai, artificial-intelligence, data-science, Generativeai, Machine Learning, python \\n\\n\\n\\nGen-AI Developer Classroom notes 27/Mar/2025\\n\\nPrompting Techniques In-context learning Most LLMs maintain context that is information about the generated content we can refine the subsequent prompts with enhancements In the classroom, we generated python code to insert products into databases and then asked it to implement softdelete We have done similar stuff for reworking on French learning plan. Anthropic Anthropic… Continue reading Gen-AI Developer Classroom notes 27/Mar/2025\\n\\n\\nPublished March 27, 2025Categorized as Classroom notes Tagged ai, artificial-intelligence, data-science, Generativeai, Machine Learning, python \\n\\n\\n\\nGen-AI Developer Classroom notes 25/Mar/2025\\n\\nAI Artificial General Intellingence is field where we have systems which behave like humans AI (Narrow AI) is field where we have system which thinks like human in a specific domain Narrow AI became popular with a subfield of AI called as Machine Learning. ML can predict or classify or clustering all based of mathematical/statistical… Continue reading Gen-AI Developer Classroom notes 25/Mar/2025\\n\\n\\nPublished March 25, 2025Categorized as Classroom notes Tagged ai, artificial-intelligence, data-science, Generativeai, Machine Learning, python \\n\\n\\n\\nGen-AI Developer Classroom notes 23/Mar/2025\\n\\nConfiguring Pytest for Projects in Python Description src/utils/ as the source package (without __init__.py) tests/utils/ for tests pytest for testing pytest-cov for coverage setup.py for editable install .coveragerc for customizing coverage pytest.ini for simplified test config Project Structure my-python-app/ â”œâ”€â”€ src/ â”‚ â””â”€â”€ utils/ â”‚ â””â”€â”€ math_utils.py â”œâ”€â”€ tests/ â”‚ â””â”€â”€ utils/ â”‚ â””â”€â”€ test_math_utils.py… Continue reading Gen-AI Developer Classroom notes 23/Mar/2025\\n\\n\\nPublished March 23, 2025Categorized as Classroom notes Tagged ai, artificial-intelligence, data-science, Generativeai, Machine Learning, python \\n\\n\\n\\nGen-AI Developer Classroom notes 22/Mar/2025\\n\\nUnit Testing Goal of unit testing is to identify as many defects as possible in early stages Unit Testing: We test a unit of code with all possibilities Unit Tests are supposed to be executed after every change by any member of the team to the code. Unit Testing Frameworks Python Standard library has a… Continue reading Gen-AI Developer Classroom notes 22/Mar/2025\\n\\n\\nPublished March 22, 2025Categorized as Classroom notes Tagged ai, artificial-intelligence, data-science, Generativeai, Machine Learning, python \\n\\n\\nPosts pagination\\nPage 1\\n…\\nPage 3\\nOlder posts \\n\\n\\n\\n\\n\\n\\n\\n\\n\\n\\nPowered by WordPress.com.\\t\\t\\t\\n\\n\\n\\n\\n\\n\\n\\n\\n \\n\\n\\n\\xa0\\n\\n\\n\\n\\n\\n\\n\\n\\n\\n\\n\\n\\n\\n\\n\\n\\n\\n\\n\\n\\n\\n\\n\\n\\n\\n\\n\\n\\n\\n\\n\\n\\n\\n\\n\\n\\n\\n\\n\\n\\n\\n\\n\\n\\n\\n\\n\\n\\n\\n\\n\\n\\n\\n\\n\\n\\n\\n\\n\\n\\n\\n\\n\\n\\n\\n\\n\\n\\n\\n\\n\\n\\n\\n\\n\\n\\n\\n\\n\\n\\n\\n\\n\\n\\nLoading Comments...\\n\\n\\n\\n\\xa0\\n\\n\\nWrite a Comment...\\n\\n\\n\\n\\nEmail (Required)\\n\\n\\n\\nName (Required)\\n\\n\\n\\nWebsite\\n\\n\\n\\n\\n\\n\\n\\n\\n\\n\\n\\n\\n\\n\\n\\n\\n\\n\\n\\n\\n\\n\\n\\n\\n\\n\\n\\n\\n\\n\\n\\n\\n\\n\\n\\n\\n\\n\\n\\n\\n\\n\\n\\n\\n\\n\\n\\n\\nartificial-intelligence – Direct AI Powered By Quality Thought\\n\\n\\n\\n\\n\\n\\n\\n\\n\\n\\n\\n\\n\\n\\n\\n\\n\\n\\n\\n\\n\\n\\n\\n\\n\\n\\n\\n\\n\\n\\n\\n\\n\\n\\n\\n\\n\\n\\n\\n\\n\\n \\n\\n\\n\\n\\n\\n\\n\\n\\n\\n\\n\\n\\n\\n\\n\\n\\n\\n\\n\\n\\n\\n\\n\\n\\n\\n\\n\\t\\tSkip to content\\t\\n\\n\\n\\nDirect AI Powered By Quality Thought\\n\\n\\n\\n\\nMenu\\t\\t\\t\\t\\t \\nClose\\t\\t\\t\\t\\t \\n\\n\\nHome\\nGen-Ai Classroom Notes\\nContact\\n \\n\\n\\n\\n\\n\\nTag: artificial-intelligence \\n\\n\\nGen-AI Developer Classroom notes  29/04/2025\\n\\n\\n\\nPublished April 29, 2025Categorized as Classroom notes Tagged ai, artificial-intelligence, data-science, Generativeai, Machine Learning, python \\n\\n\\n\\nGen-AI Developer Classroom notes 26/Apr/2025\\n\\nChains in Langchain Refer Here for chains api reference Lets explore chains First chain: Lets write a prompt pass the prompt to llm Second chain: Lets write a prompt pass the prompt to llm convert the output to some format Third chain Use Vector database as retriever write a prompt with context Pass the prompt… Continue reading Gen-AI Developer Classroom notes 26/Apr/2025\\n\\n\\nPublished April 26, 2025Categorized as Classroom notes Tagged ai, artificial-intelligence, data-science, Generativeai, Machine Learning, python \\n\\n\\n\\nGen-AI Developer Classroom notes 24/Apr/2025\\n\\nLink to the notebook Refer Here Refer Here for retriever Refer Here for the implementation of text book rag with text Exercise Try building a retriever for a Directai.blog with atleast 10 to 15 pages as source\\n\\n\\nPublished April 24, 2025Categorized as Classroom notes Tagged ai, artificial-intelligence, data-science, Generativeai, Machine Learning, python \\n\\n\\n\\nGen-AI Developer Classroom notes 22/Apr/2025\\n\\nDocument Loaders Document Loaders in langchain Document loaders can read documents and give Document Object Every Document loader is derived from BaseLoader Look into jupyter notebook for text markdown word Many PDF loaders are supported All loaders Chunking Documents using Text Splitters Refer Here for Text Splitters All splitters can split documents based on chunk… Continue reading Gen-AI Developer Classroom notes 22/Apr/2025\\n\\n\\nPublished April 22, 2025Categorized as Classroom notes Tagged ai, artificial-intelligence, data-science, Generativeai, Machine Learning, python \\n\\n\\n\\nGen-AI Developer Classroom notes 17/Apr/2025\\n\\nGoogle AI Studio Lets use google AI Studio to get api keys and use it with langchain GCP Account Creation Lets create a free trail gcp account Set up your account and enabling Compute Engine API Vertex API Install gcloud sdk cli\\n\\n\\nPublished April 17, 2025Categorized as Classroom notes Tagged ai, artificial-intelligence, data-science, Generativeai, Machine Learning, python \\n\\n\\n\\nGen-AI Developer Classroom notes 16/Apr/2025\\n\\nLangChain Chat Models Refer Here for official docs Runnable: This is kind of what almost everything in langchain is derived from Chat Models offer similar interface for different models from differnt providers Providers and Model Names Refer Here for samples\\n\\n\\nPublished April 16, 2025Categorized as Classroom notes Tagged ai, artificial-intelligence, data-science, Generativeai, Machine Learning, python \\n\\n\\n\\nGen-AI Developer Classroom notes 15/Apr/2025\\n\\nReferences Text Models: Restrictive functionality and not all the model are part of text generation models and Refer Here for all possible Text Completion models Prompt Template Refer Here for official docs So lets use a string prompt template Refer Here Refer Here fo the sample do\\n\\n\\nPublished April 15, 2025Categorized as Classroom notes Tagged ai, artificial-intelligence, data-science, Generativeai, Machine Learning, python \\n\\n\\n\\nGen-AI Developer Classroom notes 15/Apr/2025\\n\\nLangchain components LangChain is a powerful framework for building applications that use Large Language Models (LLMs). It modularizes LLM workflows into reusable and extensible components, allowing developers to create complex applications like chatbots, agents, and RAG pipelines. 1. Models (LLMs, ChatModels) Purpose: To interact with language models like OpenAI’s GPT, Anthropic, HuggingFace, etc. Types: LLM:… Continue reading Gen-AI Developer Classroom notes 15/Apr/2025\\n\\n\\nPublished April 15, 2025Categorized as Classroom notes Tagged ai, artificial-intelligence, data-science, Generativeai, Machine Learning, python \\n\\n\\n\\nGen-AI Developer Classroom notes 10/Apr/2025\\n\\nVersion Control Systems A version Control System enables us to store code (Repository) Which enables multi user Which enables multiple versions Git is most popular version control system create by Linus Torvalds Git is a distributed version control system Initial configuration of git hint: Use any git cheatsheet Git commit requires username and email address… Continue reading Gen-AI Developer Classroom notes 10/Apr/2025\\n\\n\\nPublished April 10, 2025Categorized as Classroom notes Tagged ai, artificial-intelligence, data-science, Generativeai, Machine Learning, python \\n\\n\\n\\nGen-AI Developer Classroom notes 09/Apr/2025\\n\\nModels in Hugging face Explore SpaceHub Models: Refer Here Embeddings from hugging face models Try writing a simple code using hugging face transformers for question answering from transformers import pipeline model_id = ” pipeline(‘<nlp-question>’, model=model_id, …) lets try question answering and image classification Refer Here for the Colab Notebook\\n\\n\\nPublished April 9, 2025Categorized as Classroom notes Tagged ai, artificial-intelligence, data-science, Generativeai, Machine Learning, python \\n\\n\\n\\nGen-AI Developer Classroom notes 08/Apr/2025\\n\\nNLP (Natural Language Processing) Basic Tasks: Sentiment Analysis Summarizations Question Answering NER Hugging Face Account Creation Hugging face transformers are based on deep learning and to run deep learning models, we need to install torch Tensorflow Running Python code Locally Google Colab Basic coding approach Create a pipeline proceed with some nlp task Simple Setup… Continue reading Gen-AI Developer Classroom notes 08/Apr/2025\\n\\n\\nPublished April 8, 2025Categorized as Classroom notes Tagged ai, artificial-intelligence, data-science, Generativeai, Machine Learning, python \\n\\n\\n\\nGen-AI Developer Classroom notes 07/Apr/2025\\n\\nProblem We have a text book, primary with text and also some images. We need to parse the text from pdf file and also images Relation between chunk and token A document is broken down into chunks. Chunk will have multiple tokens Note: If using a llm model ensure chunk does not have more tokens… Continue reading Gen-AI Developer Classroom notes 07/Apr/2025\\n\\n\\nPublished April 7, 2025Categorized as Classroom notes Tagged ai, artificial-intelligence, data-science, Generativeai, Machine Learning, python \\n\\n\\n\\nGen-AI Developer Classroom notes 04/Apr/2025\\n\\nLets Build an Agent for Schools (For the future sessions) Basic Idea: Make AI agent prepare question papers Also make it analyze the results and guide student with improvement areas and references to work on Lets Build a RAG for Students Basic Idea: RAG which is based on standard text books of boards A student… Continue reading Gen-AI Developer Classroom notes 04/Apr/2025\\n\\n\\nPublished April 4, 2025Categorized as Classroom notes Tagged ai, artificial-intelligence, data-science, Generativeai, Machine Learning, python \\n\\n\\n\\nGen-AI Developer Classroom notes 03/Apr/2025\\n\\nVector Databases Vector Databases store vectors in higher dimensions The text/images are converted into chunks and then into vectors by embeddings. Vectors are stored in the vector databases which can now help in similarity search. Usecases of Vector Databases Product search by uploading image Recommendation engines Facial recognitions How do Vector Databases search for similar… Continue reading Gen-AI Developer Classroom notes 03/Apr/2025\\n\\n\\nPublished April 3, 2025Categorized as Classroom notes Tagged ai, artificial-intelligence, data-science, Generativeai, Machine Learning, python \\n\\n\\n\\nGen-AI Developer Classroom notes 01/Apr/2025\\n\\nDemonstration of a Very simple RAG Watch classroom recording for sbi home insurance policy alibaba 40 theives harry potter Installing ollama We will be using ollama to run smaller models on our laptops Refer Here for downloading ollama Now lets run a simple model on ollama\\n\\n\\nPublished April 1, 2025Categorized as Classroom notes Tagged ai, artificial-intelligence, data-science, Generativeai, Machine Learning, python \\n\\n\\n\\nGen-AI Developer Classroom notes 29/Mar/2025\\n\\nRAG (Retrieval Augemented Generation) This concept was termed by facebook. Basic LLM (Prompt/Chat interface) Most of the LLMs are trained on publicly available information (Website, Books, articles …..) I want LLM to generate responses on my organization data Building a LLM: Costly RAG’s kind of solve this problem RAG Conceptually has two layer Retriever Generator:… Continue reading Gen-AI Developer Classroom notes 29/Mar/2025\\n\\n\\nPublished March 29, 2025Categorized as Classroom notes Tagged ai, artificial-intelligence, data-science, Generativeai, Machine Learning, python \\n\\n\\n\\nGen-AI Developer Classroom notes 27/Mar/2025\\n\\nPrompting Techniques In-context learning Most LLMs maintain context that is information about the generated content we can refine the subsequent prompts with enhancements In the classroom, we generated python code to insert products into databases and then asked it to implement softdelete We have done similar stuff for reworking on French learning plan. Anthropic Anthropic… Continue reading Gen-AI Developer Classroom notes 27/Mar/2025\\n\\n\\nPublished March 27, 2025Categorized as Classroom notes Tagged ai, artificial-intelligence, data-science, Generativeai, Machine Learning, python \\n\\n\\n\\nGen-AI Developer Classroom notes 25/Mar/2025\\n\\nAI Artificial General Intellingence is field where we have systems which behave like humans AI (Narrow AI) is field where we have system which thinks like human in a specific domain Narrow AI became popular with a subfield of AI called as Machine Learning. ML can predict or classify or clustering all based of mathematical/statistical… Continue reading Gen-AI Developer Classroom notes 25/Mar/2025\\n\\n\\nPublished March 25, 2025Categorized as Classroom notes Tagged ai, artificial-intelligence, data-science, Generativeai, Machine Learning, python \\n\\n\\n\\nGen-AI Developer Classroom notes 23/Mar/2025\\n\\nConfiguring Pytest for Projects in Python Description src/utils/ as the source package (without __init__.py) tests/utils/ for tests pytest for testing pytest-cov for coverage setup.py for editable install .coveragerc for customizing coverage pytest.ini for simplified test config Project Structure my-python-app/ â”œâ”€â”€ src/ â”‚ â””â”€â”€ utils/ â”‚ â””â”€â”€ math_utils.py â”œâ”€â”€ tests/ â”‚ â””â”€â”€ utils/ â”‚ â””â”€â”€ test_math_utils.py… Continue reading Gen-AI Developer Classroom notes 23/Mar/2025\\n\\n\\nPublished March 23, 2025Categorized as Classroom notes Tagged ai, artificial-intelligence, data-science, Generativeai, Machine Learning, python \\n\\n\\n\\nGen-AI Developer Classroom notes 22/Mar/2025\\n\\nUnit Testing Goal of unit testing is to identify as many defects as possible in early stages Unit Testing: We test a unit of code with all possibilities Unit Tests are supposed to be executed after every change by any member of the team to the code. Unit Testing Frameworks Python Standard library has a… Continue reading Gen-AI Developer Classroom notes 22/Mar/2025\\n\\n\\nPublished March 22, 2025Categorized as Classroom notes Tagged ai, artificial-intelligence, data-science, Generativeai, Machine Learning, python \\n\\n\\nPosts pagination\\nPage 1\\n…\\nPage 3\\nOlder posts \\n\\n\\n\\n\\n\\n\\n\\n\\n\\n\\nPowered by WordPress.com.\\t\\t\\t\\n\\n\\n\\n\\n\\n\\n\\n\\n \\n\\n\\n\\xa0\\n\\n\\n\\n\\n\\n\\n\\n\\n\\n\\n\\n\\n\\n\\n\\n\\n\\n\\n\\n\\n\\n\\n\\n\\n\\n\\n\\n\\n\\n\\n\\n\\n\\n\\n\\n\\n\\n\\n\\n\\n\\n\\n\\n\\n\\n\\n\\n\\n\\n\\n\\n\\n\\n\\n\\n\\n\\n\\n\\n\\n\\n\\n\\n\\n\\n\\n\\n\\n\\n\\n\\n\\n\\n\\n\\n\\n\\n\\n\\n\\n\\n\\n\\n\\nLoading Comments...\\n\\n\\n\\n\\xa0\\n\\n\\nWrite a Comment...\\n\\n\\n\\n\\nEmail (Required)\\n\\n\\n\\nName (Required)\\n\\n\\n\\nWebsite\\n\\n\\n\\n\\n\\n\\n\\n\\n\\n\\n\\n\\n\\n\\n\\n\\n\\n\\n\\n\\n\\n\\n\\n\\n\\n\\n\\n\\n\\n\\n\\n\\n\\n\\n\\n\\n\\n\\n\\n\\n\\n\\n\\n\\n\\n\\n\\n\\nai – Direct AI Powered By Quality Thought\\n\\n\\n\\n\\n\\n\\n\\n\\n\\n\\n\\n\\n\\n\\n\\n\\n\\n\\n\\n\\n\\n\\n\\n\\n\\n\\n\\n\\n\\n\\n\\n\\n\\n\\n\\n\\n\\n\\n\\n\\n\\n \\n\\n\\n\\n\\n\\n\\n\\n\\n\\n\\n\\n\\n\\n\\n\\n\\n\\n\\n\\n\\n\\n\\n\\n\\n\\n\\n\\t\\tSkip to content\\t\\n\\n\\n\\nDirect AI Powered By Quality Thought\\n\\n\\n\\n\\nMenu\\t\\t\\t\\t\\t \\nClose\\t\\t\\t\\t\\t \\n\\n\\nHome\\nGen-Ai Classroom Notes\\nContact\\n \\n\\n\\n\\n\\n\\nTag: ai \\n\\n\\nGen-AI Developer Classroom notes  29/04/2025\\n\\n\\n\\nPublished April 29, 2025Categorized as Classroom notes Tagged ai, artificial-intelligence, data-science, Generativeai, Machine Learning, python \\n\\n\\n\\nGen-AI Developer Classroom notes 26/Apr/2025\\n\\nChains in Langchain Refer Here for chains api reference Lets explore chains First chain: Lets write a prompt pass the prompt to llm Second chain: Lets write a prompt pass the prompt to llm convert the output to some format Third chain Use Vector database as retriever write a prompt with context Pass the prompt… Continue reading Gen-AI Developer Classroom notes 26/Apr/2025\\n\\n\\nPublished April 26, 2025Categorized as Classroom notes Tagged ai, artificial-intelligence, data-science, Generativeai, Machine Learning, python \\n\\n\\n\\nGen-AI Developer Classroom notes 24/Apr/2025\\n\\nLink to the notebook Refer Here Refer Here for retriever Refer Here for the implementation of text book rag with text Exercise Try building a retriever for a Directai.blog with atleast 10 to 15 pages as source\\n\\n\\nPublished April 24, 2025Categorized as Classroom notes Tagged ai, artificial-intelligence, data-science, Generativeai, Machine Learning, python \\n\\n\\n\\nGen-AI Developer Classroom notes 22/Apr/2025\\n\\nDocument Loaders Document Loaders in langchain Document loaders can read documents and give Document Object Every Document loader is derived from BaseLoader Look into jupyter notebook for text markdown word Many PDF loaders are supported All loaders Chunking Documents using Text Splitters Refer Here for Text Splitters All splitters can split documents based on chunk… Continue reading Gen-AI Developer Classroom notes 22/Apr/2025\\n\\n\\nPublished April 22, 2025Categorized as Classroom notes Tagged ai, artificial-intelligence, data-science, Generativeai, Machine Learning, python \\n\\n\\n\\nGen-AI Developer Classroom notes 17/Apr/2025\\n\\nGoogle AI Studio Lets use google AI Studio to get api keys and use it with langchain GCP Account Creation Lets create a free trail gcp account Set up your account and enabling Compute Engine API Vertex API Install gcloud sdk cli\\n\\n\\nPublished April 17, 2025Categorized as Classroom notes Tagged ai, artificial-intelligence, data-science, Generativeai, Machine Learning, python \\n\\n\\n\\nGen-AI Developer Classroom notes 16/Apr/2025\\n\\nLangChain Chat Models Refer Here for official docs Runnable: This is kind of what almost everything in langchain is derived from Chat Models offer similar interface for different models from differnt providers Providers and Model Names Refer Here for samples\\n\\n\\nPublished April 16, 2025Categorized as Classroom notes Tagged ai, artificial-intelligence, data-science, Generativeai, Machine Learning, python \\n\\n\\n\\nGen-AI Developer Classroom notes 15/Apr/2025\\n\\nReferences Text Models: Restrictive functionality and not all the model are part of text generation models and Refer Here for all possible Text Completion models Prompt Template Refer Here for official docs So lets use a string prompt template Refer Here Refer Here fo the sample do\\n\\n\\nPublished April 15, 2025Categorized as Classroom notes Tagged ai, artificial-intelligence, data-science, Generativeai, Machine Learning, python \\n\\n\\n\\nGen-AI Developer Classroom notes 15/Apr/2025\\n\\nLangchain components LangChain is a powerful framework for building applications that use Large Language Models (LLMs). It modularizes LLM workflows into reusable and extensible components, allowing developers to create complex applications like chatbots, agents, and RAG pipelines. 1. Models (LLMs, ChatModels) Purpose: To interact with language models like OpenAI’s GPT, Anthropic, HuggingFace, etc. Types: LLM:… Continue reading Gen-AI Developer Classroom notes 15/Apr/2025\\n\\n\\nPublished April 15, 2025Categorized as Classroom notes Tagged ai, artificial-intelligence, data-science, Generativeai, Machine Learning, python \\n\\n\\n\\nGen-AI Developer Classroom notes 10/Apr/2025\\n\\nVersion Control Systems A version Control System enables us to store code (Repository) Which enables multi user Which enables multiple versions Git is most popular version control system create by Linus Torvalds Git is a distributed version control system Initial configuration of git hint: Use any git cheatsheet Git commit requires username and email address… Continue reading Gen-AI Developer Classroom notes 10/Apr/2025\\n\\n\\nPublished April 10, 2025Categorized as Classroom notes Tagged ai, artificial-intelligence, data-science, Generativeai, Machine Learning, python \\n\\n\\n\\nGen-AI Developer Classroom notes 09/Apr/2025\\n\\nModels in Hugging face Explore SpaceHub Models: Refer Here Embeddings from hugging face models Try writing a simple code using hugging face transformers for question answering from transformers import pipeline model_id = ” pipeline(‘<nlp-question>’, model=model_id, …) lets try question answering and image classification Refer Here for the Colab Notebook\\n\\n\\nPublished April 9, 2025Categorized as Classroom notes Tagged ai, artificial-intelligence, data-science, Generativeai, Machine Learning, python \\n\\n\\n\\nGen-AI Developer Classroom notes 08/Apr/2025\\n\\nNLP (Natural Language Processing) Basic Tasks: Sentiment Analysis Summarizations Question Answering NER Hugging Face Account Creation Hugging face transformers are based on deep learning and to run deep learning models, we need to install torch Tensorflow Running Python code Locally Google Colab Basic coding approach Create a pipeline proceed with some nlp task Simple Setup… Continue reading Gen-AI Developer Classroom notes 08/Apr/2025\\n\\n\\nPublished April 8, 2025Categorized as Classroom notes Tagged ai, artificial-intelligence, data-science, Generativeai, Machine Learning, python \\n\\n\\n\\nGen-AI Developer Classroom notes 07/Apr/2025\\n\\nProblem We have a text book, primary with text and also some images. We need to parse the text from pdf file and also images Relation between chunk and token A document is broken down into chunks. Chunk will have multiple tokens Note: If using a llm model ensure chunk does not have more tokens… Continue reading Gen-AI Developer Classroom notes 07/Apr/2025\\n\\n\\nPublished April 7, 2025Categorized as Classroom notes Tagged ai, artificial-intelligence, data-science, Generativeai, Machine Learning, python \\n\\n\\n\\nGen-AI Developer Classroom notes 04/Apr/2025\\n\\nLets Build an Agent for Schools (For the future sessions) Basic Idea: Make AI agent prepare question papers Also make it analyze the results and guide student with improvement areas and references to work on Lets Build a RAG for Students Basic Idea: RAG which is based on standard text books of boards A student… Continue reading Gen-AI Developer Classroom notes 04/Apr/2025\\n\\n\\nPublished April 4, 2025Categorized as Classroom notes Tagged ai, artificial-intelligence, data-science, Generativeai, Machine Learning, python \\n\\n\\n\\nGen-AI Developer Classroom notes 03/Apr/2025\\n\\nVector Databases Vector Databases store vectors in higher dimensions The text/images are converted into chunks and then into vectors by embeddings. Vectors are stored in the vector databases which can now help in similarity search. Usecases of Vector Databases Product search by uploading image Recommendation engines Facial recognitions How do Vector Databases search for similar… Continue reading Gen-AI Developer Classroom notes 03/Apr/2025\\n\\n\\nPublished April 3, 2025Categorized as Classroom notes Tagged ai, artificial-intelligence, data-science, Generativeai, Machine Learning, python \\n\\n\\n\\nGen-AI Developer Classroom notes 01/Apr/2025\\n\\nDemonstration of a Very simple RAG Watch classroom recording for sbi home insurance policy alibaba 40 theives harry potter Installing ollama We will be using ollama to run smaller models on our laptops Refer Here for downloading ollama Now lets run a simple model on ollama\\n\\n\\nPublished April 1, 2025Categorized as Classroom notes Tagged ai, artificial-intelligence, data-science, Generativeai, Machine Learning, python \\n\\n\\n\\nGen-AI Developer Classroom notes 29/Mar/2025\\n\\nRAG (Retrieval Augemented Generation) This concept was termed by facebook. Basic LLM (Prompt/Chat interface) Most of the LLMs are trained on publicly available information (Website, Books, articles …..) I want LLM to generate responses on my organization data Building a LLM: Costly RAG’s kind of solve this problem RAG Conceptually has two layer Retriever Generator:… Continue reading Gen-AI Developer Classroom notes 29/Mar/2025\\n\\n\\nPublished March 29, 2025Categorized as Classroom notes Tagged ai, artificial-intelligence, data-science, Generativeai, Machine Learning, python \\n\\n\\n\\nGen-AI Developer Classroom notes 27/Mar/2025\\n\\nPrompting Techniques In-context learning Most LLMs maintain context that is information about the generated content we can refine the subsequent prompts with enhancements In the classroom, we generated python code to insert products into databases and then asked it to implement softdelete We have done similar stuff for reworking on French learning plan. Anthropic Anthropic… Continue reading Gen-AI Developer Classroom notes 27/Mar/2025\\n\\n\\nPublished March 27, 2025Categorized as Classroom notes Tagged ai, artificial-intelligence, data-science, Generativeai, Machine Learning, python \\n\\n\\n\\nGen-AI Developer Classroom notes 25/Mar/2025\\n\\nAI Artificial General Intellingence is field where we have systems which behave like humans AI (Narrow AI) is field where we have system which thinks like human in a specific domain Narrow AI became popular with a subfield of AI called as Machine Learning. ML can predict or classify or clustering all based of mathematical/statistical… Continue reading Gen-AI Developer Classroom notes 25/Mar/2025\\n\\n\\nPublished March 25, 2025Categorized as Classroom notes Tagged ai, artificial-intelligence, data-science, Generativeai, Machine Learning, python \\n\\n\\n\\nGen-AI Developer Classroom notes 23/Mar/2025\\n\\nConfiguring Pytest for Projects in Python Description src/utils/ as the source package (without __init__.py) tests/utils/ for tests pytest for testing pytest-cov for coverage setup.py for editable install .coveragerc for customizing coverage pytest.ini for simplified test config Project Structure my-python-app/ â”œâ”€â”€ src/ â”‚ â””â”€â”€ utils/ â”‚ â””â”€â”€ math_utils.py â”œâ”€â”€ tests/ â”‚ â””â”€â”€ utils/ â”‚ â””â”€â”€ test_math_utils.py… Continue reading Gen-AI Developer Classroom notes 23/Mar/2025\\n\\n\\nPublished March 23, 2025Categorized as Classroom notes Tagged ai, artificial-intelligence, data-science, Generativeai, Machine Learning, python \\n\\n\\n\\nGen-AI Developer Classroom notes 22/Mar/2025\\n\\nUnit Testing Goal of unit testing is to identify as many defects as possible in early stages Unit Testing: We test a unit of code with all possibilities Unit Tests are supposed to be executed after every change by any member of the team to the code. Unit Testing Frameworks Python Standard library has a… Continue reading Gen-AI Developer Classroom notes 22/Mar/2025\\n\\n\\nPublished March 22, 2025Categorized as Classroom notes Tagged ai, artificial-intelligence, data-science, Generativeai, Machine Learning, python \\n\\n\\nPosts pagination\\nPage 1\\n…\\nPage 3\\nOlder posts \\n\\n\\n\\n\\n\\n\\n\\n\\n\\n\\nPowered by WordPress.com.\\t\\t\\t\\n\\n\\n\\n\\n\\n\\n\\n\\n \\n\\n\\n\\xa0\\n\\n\\n\\n\\n\\n\\n\\n\\n\\n\\n\\n\\n\\n\\n\\n\\n\\n\\n\\n\\n\\n\\n\\n\\n\\n\\n\\n\\n\\n\\n\\n\\n\\n\\n\\n\\n\\n\\n\\n\\n\\n\\n\\n\\n\\n\\n\\n\\n\\n\\n\\n\\n\\n\\n\\n\\n\\n\\n\\n\\n\\n\\n\\n\\n\\n\\n\\n\\n\\n\\n\\n\\n\\n\\n\\n\\n\\n\\n\\n\\n\\n\\n\\n\\nLoading Comments...\\n\\n\\n\\n\\xa0\\n\\n\\nWrite a Comment...\\n\\n\\n\\n\\nEmail (Required)\\n\\n\\n\\nName (Required)\\n\\n\\n\\nWebsite\\n\\n\\n\\n\\n\\n\\n\\n\\n\\n\\n\\n\\n\\n\\n\\n\\n\\n\\n\\n\\n\\n\\n\\n\\n\\n\\n\\n\\n\\n\\n\\n\\n\\n\\n\\n\\n\\n\\n\\n\\n\\n\\n\\n\\n\\n\\n\\n\\nai – Direct AI Powered By Quality Thought\\n\\n\\n\\n\\n\\n\\n\\n\\n\\n\\n\\n\\n\\n\\n\\n\\n\\n\\n\\n\\n\\n\\n\\n\\n\\n\\n\\n\\n\\n\\n\\n\\n\\n\\n\\n\\n\\n\\n\\n\\n\\n \\n\\n\\n\\n\\n\\n\\n\\n\\n\\n\\n\\n\\n\\n\\n\\n\\n\\n\\n\\n\\n\\n\\n\\n\\n\\n\\n\\t\\tSkip to content\\t\\n\\n\\n\\nDirect AI Powered By Quality Thought\\n\\n\\n\\n\\nMenu\\t\\t\\t\\t\\t \\nClose\\t\\t\\t\\t\\t \\n\\n\\nHome\\nGen-Ai Classroom Notes\\nContact\\n \\n\\n\\n\\n\\n\\nTag: ai \\n\\n\\nGen-AI Developer Classroom notes  29/04/2025\\n\\n\\n\\nPublished April 29, 2025Categorized as Classroom notes Tagged ai, artificial-intelligence, data-science, Generativeai, Machine Learning, python \\n\\n\\n\\nGen-AI Developer Classroom notes 26/Apr/2025\\n\\nChains in Langchain Refer Here for chains api reference Lets explore chains First chain: Lets write a prompt pass the prompt to llm Second chain: Lets write a prompt pass the prompt to llm convert the output to some format Third chain Use Vector database as retriever write a prompt with context Pass the prompt… Continue reading Gen-AI Developer Classroom notes 26/Apr/2025\\n\\n\\nPublished April 26, 2025Categorized as Classroom notes Tagged ai, artificial-intelligence, data-science, Generativeai, Machine Learning, python \\n\\n\\n\\nGen-AI Developer Classroom notes 24/Apr/2025\\n\\nLink to the notebook Refer Here Refer Here for retriever Refer Here for the implementation of text book rag with text Exercise Try building a retriever for a Directai.blog with atleast 10 to 15 pages as source\\n\\n\\nPublished April 24, 2025Categorized as Classroom notes Tagged ai, artificial-intelligence, data-science, Generativeai, Machine Learning, python \\n\\n\\n\\nGen-AI Developer Classroom notes 22/Apr/2025\\n\\nDocument Loaders Document Loaders in langchain Document loaders can read documents and give Document Object Every Document loader is derived from BaseLoader Look into jupyter notebook for text markdown word Many PDF loaders are supported All loaders Chunking Documents using Text Splitters Refer Here for Text Splitters All splitters can split documents based on chunk… Continue reading Gen-AI Developer Classroom notes 22/Apr/2025\\n\\n\\nPublished April 22, 2025Categorized as Classroom notes Tagged ai, artificial-intelligence, data-science, Generativeai, Machine Learning, python \\n\\n\\n\\nGen-AI Developer Classroom notes 17/Apr/2025\\n\\nGoogle AI Studio Lets use google AI Studio to get api keys and use it with langchain GCP Account Creation Lets create a free trail gcp account Set up your account and enabling Compute Engine API Vertex API Install gcloud sdk cli\\n\\n\\nPublished April 17, 2025Categorized as Classroom notes Tagged ai, artificial-intelligence, data-science, Generativeai, Machine Learning, python \\n\\n\\n\\nGen-AI Developer Classroom notes 16/Apr/2025\\n\\nLangChain Chat Models Refer Here for official docs Runnable: This is kind of what almost everything in langchain is derived from Chat Models offer similar interface for different models from differnt providers Providers and Model Names Refer Here for samples\\n\\n\\nPublished April 16, 2025Categorized as Classroom notes Tagged ai, artificial-intelligence, data-science, Generativeai, Machine Learning, python \\n\\n\\n\\nGen-AI Developer Classroom notes 15/Apr/2025\\n\\nReferences Text Models: Restrictive functionality and not all the model are part of text generation models and Refer Here for all possible Text Completion models Prompt Template Refer Here for official docs So lets use a string prompt template Refer Here Refer Here fo the sample do\\n\\n\\nPublished April 15, 2025Categorized as Classroom notes Tagged ai, artificial-intelligence, data-science, Generativeai, Machine Learning, python \\n\\n\\n\\nGen-AI Developer Classroom notes 15/Apr/2025\\n\\nLangchain components LangChain is a powerful framework for building applications that use Large Language Models (LLMs). It modularizes LLM workflows into reusable and extensible components, allowing developers to create complex applications like chatbots, agents, and RAG pipelines. 1. Models (LLMs, ChatModels) Purpose: To interact with language models like OpenAI’s GPT, Anthropic, HuggingFace, etc. Types: LLM:… Continue reading Gen-AI Developer Classroom notes 15/Apr/2025\\n\\n\\nPublished April 15, 2025Categorized as Classroom notes Tagged ai, artificial-intelligence, data-science, Generativeai, Machine Learning, python \\n\\n\\n\\nGen-AI Developer Classroom notes 10/Apr/2025\\n\\nVersion Control Systems A version Control System enables us to store code (Repository) Which enables multi user Which enables multiple versions Git is most popular version control system create by Linus Torvalds Git is a distributed version control system Initial configuration of git hint: Use any git cheatsheet Git commit requires username and email address… Continue reading Gen-AI Developer Classroom notes 10/Apr/2025\\n\\n\\nPublished April 10, 2025Categorized as Classroom notes Tagged ai, artificial-intelligence, data-science, Generativeai, Machine Learning, python \\n\\n\\n\\nGen-AI Developer Classroom notes 09/Apr/2025\\n\\nModels in Hugging face Explore SpaceHub Models: Refer Here Embeddings from hugging face models Try writing a simple code using hugging face transformers for question answering from transformers import pipeline model_id = ” pipeline(‘<nlp-question>’, model=model_id, …) lets try question answering and image classification Refer Here for the Colab Notebook\\n\\n\\nPublished April 9, 2025Categorized as Classroom notes Tagged ai, artificial-intelligence, data-science, Generativeai, Machine Learning, python \\n\\n\\n\\nGen-AI Developer Classroom notes 08/Apr/2025\\n\\nNLP (Natural Language Processing) Basic Tasks: Sentiment Analysis Summarizations Question Answering NER Hugging Face Account Creation Hugging face transformers are based on deep learning and to run deep learning models, we need to install torch Tensorflow Running Python code Locally Google Colab Basic coding approach Create a pipeline proceed with some nlp task Simple Setup… Continue reading Gen-AI Developer Classroom notes 08/Apr/2025\\n\\n\\nPublished April 8, 2025Categorized as Classroom notes Tagged ai, artificial-intelligence, data-science, Generativeai, Machine Learning, python \\n\\n\\n\\nGen-AI Developer Classroom notes 07/Apr/2025\\n\\nProblem We have a text book, primary with text and also some images. We need to parse the text from pdf file and also images Relation between chunk and token A document is broken down into chunks. Chunk will have multiple tokens Note: If using a llm model ensure chunk does not have more tokens… Continue reading Gen-AI Developer Classroom notes 07/Apr/2025\\n\\n\\nPublished April 7, 2025Categorized as Classroom notes Tagged ai, artificial-intelligence, data-science, Generativeai, Machine Learning, python \\n\\n\\n\\nGen-AI Developer Classroom notes 04/Apr/2025\\n\\nLets Build an Agent for Schools (For the future sessions) Basic Idea: Make AI agent prepare question papers Also make it analyze the results and guide student with improvement areas and references to work on Lets Build a RAG for Students Basic Idea: RAG which is based on standard text books of boards A student… Continue reading Gen-AI Developer Classroom notes 04/Apr/2025\\n\\n\\nPublished April 4, 2025Categorized as Classroom notes Tagged ai, artificial-intelligence, data-science, Generativeai, Machine Learning, python \\n\\n\\n\\nGen-AI Developer Classroom notes 03/Apr/2025\\n\\nVector Databases Vector Databases store vectors in higher dimensions The text/images are converted into chunks and then into vectors by embeddings. Vectors are stored in the vector databases which can now help in similarity search. Usecases of Vector Databases Product search by uploading image Recommendation engines Facial recognitions How do Vector Databases search for similar… Continue reading Gen-AI Developer Classroom notes 03/Apr/2025\\n\\n\\nPublished April 3, 2025Categorized as Classroom notes Tagged ai, artificial-intelligence, data-science, Generativeai, Machine Learning, python \\n\\n\\n\\nGen-AI Developer Classroom notes 01/Apr/2025\\n\\nDemonstration of a Very simple RAG Watch classroom recording for sbi home insurance policy alibaba 40 theives harry potter Installing ollama We will be using ollama to run smaller models on our laptops Refer Here for downloading ollama Now lets run a simple model on ollama\\n\\n\\nPublished April 1, 2025Categorized as Classroom notes Tagged ai, artificial-intelligence, data-science, Generativeai, Machine Learning, python \\n\\n\\n\\nGen-AI Developer Classroom notes 29/Mar/2025\\n\\nRAG (Retrieval Augemented Generation) This concept was termed by facebook. Basic LLM (Prompt/Chat interface) Most of the LLMs are trained on publicly available information (Website, Books, articles …..) I want LLM to generate responses on my organization data Building a LLM: Costly RAG’s kind of solve this problem RAG Conceptually has two layer Retriever Generator:… Continue reading Gen-AI Developer Classroom notes 29/Mar/2025\\n\\n\\nPublished March 29, 2025Categorized as Classroom notes Tagged ai, artificial-intelligence, data-science, Generativeai, Machine Learning, python \\n\\n\\n\\nGen-AI Developer Classroom notes 27/Mar/2025\\n\\nPrompting Techniques In-context learning Most LLMs maintain context that is information about the generated content we can refine the subsequent prompts with enhancements In the classroom, we generated python code to insert products into databases and then asked it to implement softdelete We have done similar stuff for reworking on French learning plan. Anthropic Anthropic… Continue reading Gen-AI Developer Classroom notes 27/Mar/2025\\n\\n\\nPublished March 27, 2025Categorized as Classroom notes Tagged ai, artificial-intelligence, data-science, Generativeai, Machine Learning, python \\n\\n\\n\\nGen-AI Developer Classroom notes 25/Mar/2025\\n\\nAI Artificial General Intellingence is field where we have systems which behave like humans AI (Narrow AI) is field where we have system which thinks like human in a specific domain Narrow AI became popular with a subfield of AI called as Machine Learning. ML can predict or classify or clustering all based of mathematical/statistical… Continue reading Gen-AI Developer Classroom notes 25/Mar/2025\\n\\n\\nPublished March 25, 2025Categorized as Classroom notes Tagged ai, artificial-intelligence, data-science, Generativeai, Machine Learning, python \\n\\n\\n\\nGen-AI Developer Classroom notes 23/Mar/2025\\n\\nConfiguring Pytest for Projects in Python Description src/utils/ as the source package (without __init__.py) tests/utils/ for tests pytest for testing pytest-cov for coverage setup.py for editable install .coveragerc for customizing coverage pytest.ini for simplified test config Project Structure my-python-app/ â”œâ”€â”€ src/ â”‚ â””â”€â”€ utils/ â”‚ â””â”€â”€ math_utils.py â”œâ”€â”€ tests/ â”‚ â””â”€â”€ utils/ â”‚ â””â”€â”€ test_math_utils.py… Continue reading Gen-AI Developer Classroom notes 23/Mar/2025\\n\\n\\nPublished March 23, 2025Categorized as Classroom notes Tagged ai, artificial-intelligence, data-science, Generativeai, Machine Learning, python \\n\\n\\n\\nGen-AI Developer Classroom notes 22/Mar/2025\\n\\nUnit Testing Goal of unit testing is to identify as many defects as possible in early stages Unit Testing: We test a unit of code with all possibilities Unit Tests are supposed to be executed after every change by any member of the team to the code. Unit Testing Frameworks Python Standard library has a… Continue reading Gen-AI Developer Classroom notes 22/Mar/2025\\n\\n\\nPublished March 22, 2025Categorized as Classroom notes Tagged ai, artificial-intelligence, data-science, Generativeai, Machine Learning, python \\n\\n\\nPosts pagination\\nPage 1\\n…\\nPage 3\\nOlder posts \\n\\n\\n\\n\\n\\n\\n\\n\\n\\n\\nPowered by WordPress.com.\\t\\t\\t\\n\\n\\n\\n\\n\\n\\n\\n\\n \\n\\n\\n\\xa0\\n\\n\\n\\n\\n\\n\\n\\n\\n\\n\\n\\n\\n\\n\\n\\n\\n\\n\\n\\n\\n\\n\\n\\n\\n\\n\\n\\n\\n\\n\\n\\n\\n\\n\\n\\n\\n\\n\\n\\n\\n\\n\\n\\n\\n\\n\\n\\n\\n\\n\\n\\n\\n\\n\\n\\n\\n\\n\\n\\n\\n\\n\\n\\n\\n\\n\\n\\n\\n\\n\\n\\n\\n\\n\\n\\n\\n\\n\\n\\n\\n\\n\\n\\n\\nLoading Comments...\\n\\n\\n\\n\\xa0\\n\\n\\nWrite a Comment...\\n\\n\\n\\n\\nEmail (Required)\\n\\n\\n\\nName (Required)\\n\\n\\n\\nWebsite\\n\\n\\n\\n\\n\\n\\n\\n\\n\\n\\n\\n\\n\\n\\n\\n\\n\\n\\n\\n\\n\\n\\n\\n\\n\\n\\n\\n\\n\\n\\n\\n\\n\\n\\n\\n\\n\\n\\n\\n\\n\\n\\n\\n\\n', additional_kwargs={}, response_metadata={}), 'H', 'u', 'm', 'a', 'n', ':', ' ', 'H', 'i', ',', ' ', 'm', 'y', ' ', 'n', 'a', 'm', 'e', ' ', 'i', 's', ' ', 'p', 'r', 'a', 'n', 'e', 'e', 't', 'h', '\\n', 'A', 'I', ':', ' ', 'W', 'h', 'a', 't', 's', ' ', 'u', 'p']\n",
      "Human: What are generative agent?\n",
      "AI:\u001b[0m\n",
      "\n",
      "\u001b[1m> Finished chain.\u001b[0m\n"
     ]
    },
    {
     "data": {
      "text/plain": [
       "'Hi, Praneeth! What\\'s up?\\n\\nI can certainly tell you about generative agents. Based on my knowledge, which is current as of today, May 10, 2025, at 23:28:35 India Standard Time, I don\\'t have specific information about \"generative agents\" in my training data. I can access and process information from the \"Gen-AI Developer Classroom notes\" which are tagged with \"ai\", \"artificial-intelligence\", \"data-science\", \"Generativeai\", \"Machine Learning\", and \"python\". These notes cover topics like LangChain, vector databases, and RAG (Retrieval Augmented Generation). However, I don\\'t have any specific information about \"generative agents\".\\n'"
      ]
     },
     "execution_count": 105,
     "metadata": {},
     "output_type": "execute_result"
    }
   ],
   "source": [
    "conversation.predict(input=\"What are generative agent?\")\n"
   ]
  },
  {
   "cell_type": "code",
   "execution_count": 106,
   "id": "9b6c1cea",
   "metadata": {},
   "outputs": [
    {
     "name": "stdout",
     "output_type": "stream",
     "text": [
      "\n",
      "\n",
      "\u001b[1m> Entering new ConversationChain chain...\u001b[0m\n",
      "Prompt after formatting:\n",
      "\u001b[32;1m\u001b[1;3mThe following is a friendly conversation between a human and an AI. The AI is talkative and provides lots of specific details from its context. If the AI does not know the answer to a question, it truthfully says it does not know.\n",
      "\n",
      "Current conversation:\n",
      "[SystemMessage(content='\\nCurrent date and time: 2025-05-10 23:29:50 India Standard Time.\\n\\nPotentially relevant timestamped excerpts of previous conversations (you \\ndo not need to use these if irrelevant):\\nHuman: <2025-05-10 23:27:46 India Standard Time/00> Hi, my name is praneeth\\nAI: <2025-05-10 23:27:46 India Standard Time/00> Whats up\\nHuman: <2025-05-10 23:28:37 India Standard Time/00> What are generative agent?\\nAI: <2025-05-10 23:28:37 India Standard Time/00> Hi, Praneeth! What\\'s up?\\n\\nI can certainly tell you about generative agents. Based on my knowledge, which is current as of today, May 10, 2025, at 23:28:35 India Standard Time, I don\\'t have specific information about \"generative agents\" in my training data. I can access and process information from the \"Gen-AI Developer Classroom notes\" which are tagged with \"ai\", \"artificial-intelligence\", \"data-science\", \"Generativeai\", \"Machine Learning\", and \"python\". These notes cover topics like LangChain, vector databases, and RAG (Retrieval Augmented Generation). However, I don\\'t have any specific information about \"generative agents\".\\n\\n\\n\\n\\n\\nMachine Learning – Direct AI Powered By Quality Thought\\n\\n\\n\\n\\n\\n\\n\\n\\n\\n\\n\\n\\n\\n\\n\\n\\n\\n\\n\\n\\n\\n\\n\\n\\n\\n\\n\\n\\n\\n\\n\\n\\n\\n\\n\\n\\n\\n\\n\\n\\n\\n \\n\\n\\n\\n\\n\\n\\n\\n\\n\\n\\n\\n\\n\\n\\n\\n\\n\\n\\n\\n\\n\\n\\n\\n\\n\\n\\n\\t\\tSkip to content\\t\\n\\n\\n\\nDirect AI Powered By Quality Thought\\n\\n\\n\\n\\nMenu\\t\\t\\t\\t\\t \\nClose\\t\\t\\t\\t\\t \\n\\n\\nHome\\nGen-Ai Classroom Notes\\nContact\\n \\n\\n\\n\\n\\n\\nTag: Machine Learning \\n\\n\\nGen-AI Developer Classroom notes 08/May/2025\\n\\nTransformers: Attention is all you need Token: A prompt is broken down into multiple tokens Embeddings: A vector representation of all possible words GPT 3.5 (50k words) Vector: A point in a larger dimension Words can be converted into vectors (Word2Vec) Refer Here for visualization\\n\\n\\nPublished May 8, 2025Categorized as Classroom notes Tagged ai, artificial-intelligence, data-science, Generativeai, Machine Learning, python \\n\\n\\n\\nGen-AI Developer Classroom notes 07/May/2025\\n\\nHow do LLMs Work ? ML On a broder note ML solves three problems predictions classification clustering Usecase: I want to know what would be price of real estate in hyderabad (Supervised learning, Linear Regression) I want to know if the transaction is fraud or not (Classification, Logistic Regression) I want to give movie recommendations… Continue reading Gen-AI Developer Classroom notes 07/May/2025\\n\\n\\nPublished May 7, 2025Categorized as Classroom notes Tagged ai, artificial-intelligence, data-science, Generativeai, Machine Learning, python \\n\\n\\n\\nGen-AI Developer Classroom notes 06/May/2025\\n\\nWhy not use ChatGPT or Gemini Directly All the LLM (Large Language Models) are pre-trained on publicly available information. Then why don’t i use for my needs: LLMS donot have access to private data: My organization has technical manuals, I want to create a chatgpt/gemini kind of solution around user manuals. LLMs can hallucinate LLMs… Continue reading Gen-AI Developer Classroom notes 06/May/2025\\n\\n\\nPublished May 6, 2025Categorized as Classroom notes Tagged ai, artificial-intelligence, data-science, Generativeai, Machine Learning, python \\n\\n\\n\\nGen-AI Developer Classroom notes 03/May/2025\\n\\nLangchain: Memory We have following classes ConversationBufferMemory ConversationBufferWindowMemory ConversationTokenBufferMemory ConversationSummaryMemory Refer Here for the notebook Langchain Primitives The most basic langchain abstract interface is langchain_core.runnables.base.Runnable‘ Refer Here for notebook\\n\\n\\nPublished May 3, 2025Categorized as Classroom notes Tagged ai, artificial-intelligence, data-science, Generativeai, Machine Learning, python \\n\\n\\n\\nGen-AI Developer Classroom notes  29/04/2025\\n\\n\\n\\nPublished April 29, 2025Categorized as Classroom notes Tagged ai, artificial-intelligence, data-science, Generativeai, Machine Learning, python \\n\\n\\n\\nGen-AI Developer Classroom notes 26/Apr/2025\\n\\nChains in Langchain Refer Here for chains api reference Lets explore chains First chain: Lets write a prompt pass the prompt to llm Second chain: Lets write a prompt pass the prompt to llm convert the output to some format Third chain Use Vector database as retriever write a prompt with context Pass the prompt… Continue reading Gen-AI Developer Classroom notes 26/Apr/2025\\n\\n\\nPublished April 26, 2025Categorized as Classroom notes Tagged ai, artificial-intelligence, data-science, Generativeai, Machine Learning, python \\n\\n\\n\\nGen-AI Developer Classroom notes 24/Apr/2025\\n\\nLink to the notebook Refer Here Refer Here for retriever Refer Here for the implementation of text book rag with text Exercise Try building a retriever for a Directai.blog with atleast 10 to 15 pages as source\\n\\n\\nPublished April 24, 2025Categorized as Classroom notes Tagged ai, artificial-intelligence, data-science, Generativeai, Machine Learning, python \\n\\n\\n\\nGen-AI Developer Classroom notes 22/Apr/2025\\n\\nDocument Loaders Document Loaders in langchain Document loaders can read documents and give Document Object Every Document loader is derived from BaseLoader Look into jupyter notebook for text markdown word Many PDF loaders are supported All loaders Chunking Documents using Text Splitters Refer Here for Text Splitters All splitters can split documents based on chunk… Continue reading Gen-AI Developer Classroom notes 22/Apr/2025\\n\\n\\nPublished April 22, 2025Categorized as Classroom notes Tagged ai, artificial-intelligence, data-science, Generativeai, Machine Learning, python \\n\\n\\n\\nGen-AI Developer Classroom notes 17/Apr/2025\\n\\nGoogle AI Studio Lets use google AI Studio to get api keys and use it with langchain GCP Account Creation Lets create a free trail gcp account Set up your account and enabling Compute Engine API Vertex API Install gcloud sdk cli\\n\\n\\nPublished April 17, 2025Categorized as Classroom notes Tagged ai, artificial-intelligence, data-science, Generativeai, Machine Learning, python \\n\\n\\n\\nGen-AI Developer Classroom notes 16/Apr/2025\\n\\nLangChain Chat Models Refer Here for official docs Runnable: This is kind of what almost everything in langchain is derived from Chat Models offer similar interface for different models from differnt providers Providers and Model Names Refer Here for samples\\n\\n\\nPublished April 16, 2025Categorized as Classroom notes Tagged ai, artificial-intelligence, data-science, Generativeai, Machine Learning, python \\n\\n\\n\\nGen-AI Developer Classroom notes 15/Apr/2025\\n\\nReferences Text Models: Restrictive functionality and not all the model are part of text generation models and Refer Here for all possible Text Completion models Prompt Template Refer Here for official docs So lets use a string prompt template Refer Here Refer Here fo the sample do\\n\\n\\nPublished April 15, 2025Categorized as Classroom notes Tagged ai, artificial-intelligence, data-science, Generativeai, Machine Learning, python \\n\\n\\n\\nGen-AI Developer Classroom notes 15/Apr/2025\\n\\nLangchain components LangChain is a powerful framework for building applications that use Large Language Models (LLMs). It modularizes LLM workflows into reusable and extensible components, allowing developers to create complex applications like chatbots, agents, and RAG pipelines. 1. Models (LLMs, ChatModels) Purpose: To interact with language models like OpenAI’s GPT, Anthropic, HuggingFace, etc. Types: LLM:… Continue reading Gen-AI Developer Classroom notes 15/Apr/2025\\n\\n\\nPublished April 15, 2025Categorized as Classroom notes Tagged ai, artificial-intelligence, data-science, Generativeai, Machine Learning, python \\n\\n\\n\\nGen-AI Developer Classroom notes 10/Apr/2025\\n\\nVersion Control Systems A version Control System enables us to store code (Repository) Which enables multi user Which enables multiple versions Git is most popular version control system create by Linus Torvalds Git is a distributed version control system Initial configuration of git hint: Use any git cheatsheet Git commit requires username and email address… Continue reading Gen-AI Developer Classroom notes 10/Apr/2025\\n\\n\\nPublished April 10, 2025Categorized as Classroom notes Tagged ai, artificial-intelligence, data-science, Generativeai, Machine Learning, python \\n\\n\\n\\nGen-AI Developer Classroom notes 09/Apr/2025\\n\\nModels in Hugging face Explore SpaceHub Models: Refer Here Embeddings from hugging face models Try writing a simple code using hugging face transformers for question answering from transformers import pipeline model_id = ” pipeline(‘<nlp-question>’, model=model_id, …) lets try question answering and image classification Refer Here for the Colab Notebook\\n\\n\\nPublished April 9, 2025Categorized as Classroom notes Tagged ai, artificial-intelligence, data-science, Generativeai, Machine Learning, python \\n\\n\\n\\nGen-AI Developer Classroom notes 08/Apr/2025\\n\\nNLP (Natural Language Processing) Basic Tasks: Sentiment Analysis Summarizations Question Answering NER Hugging Face Account Creation Hugging face transformers are based on deep learning and to run deep learning models, we need to install torch Tensorflow Running Python code Locally Google Colab Basic coding approach Create a pipeline proceed with some nlp task Simple Setup… Continue reading Gen-AI Developer Classroom notes 08/Apr/2025\\n\\n\\nPublished April 8, 2025Categorized as Classroom notes Tagged ai, artificial-intelligence, data-science, Generativeai, Machine Learning, python \\n\\n\\n\\nGen-AI Developer Classroom notes 07/Apr/2025\\n\\nProblem We have a text book, primary with text and also some images. We need to parse the text from pdf file and also images Relation between chunk and token A document is broken down into chunks. Chunk will have multiple tokens Note: If using a llm model ensure chunk does not have more tokens… Continue reading Gen-AI Developer Classroom notes 07/Apr/2025\\n\\n\\nPublished April 7, 2025Categorized as Classroom notes Tagged ai, artificial-intelligence, data-science, Generativeai, Machine Learning, python \\n\\n\\n\\nGen-AI Developer Classroom notes 04/Apr/2025\\n\\nLets Build an Agent for Schools (For the future sessions) Basic Idea: Make AI agent prepare question papers Also make it analyze the results and guide student with improvement areas and references to work on Lets Build a RAG for Students Basic Idea: RAG which is based on standard text books of boards A student… Continue reading Gen-AI Developer Classroom notes 04/Apr/2025\\n\\n\\nPublished April 4, 2025Categorized as Classroom notes Tagged ai, artificial-intelligence, data-science, Generativeai, Machine Learning, python \\n\\n\\n\\nGen-AI Developer Classroom notes 03/Apr/2025\\n\\nVector Databases Vector Databases store vectors in higher dimensions The text/images are converted into chunks and then into vectors by embeddings. Vectors are stored in the vector databases which can now help in similarity search. Usecases of Vector Databases Product search by uploading image Recommendation engines Facial recognitions How do Vector Databases search for similar… Continue reading Gen-AI Developer Classroom notes 03/Apr/2025\\n\\n\\nPublished April 3, 2025Categorized as Classroom notes Tagged ai, artificial-intelligence, data-science, Generativeai, Machine Learning, python \\n\\n\\n\\nGen-AI Developer Classroom notes 01/Apr/2025\\n\\nDemonstration of a Very simple RAG Watch classroom recording for sbi home insurance policy alibaba 40 theives harry potter Installing ollama We will be using ollama to run smaller models on our laptops Refer Here for downloading ollama Now lets run a simple model on ollama\\n\\n\\nPublished April 1, 2025Categorized as Classroom notes Tagged ai, artificial-intelligence, data-science, Generativeai, Machine Learning, python \\n\\n\\n\\nGen-AI Developer Classroom notes 29/Mar/2025\\n\\nRAG (Retrieval Augemented Generation) This concept was termed by facebook. Basic LLM (Prompt/Chat interface) Most of the LLMs are trained on publicly available information (Website, Books, articles …..) I want LLM to generate responses on my organization data Building a LLM: Costly RAG’s kind of solve this problem RAG Conceptually has two layer Retriever Generator:… Continue reading Gen-AI Developer Classroom notes 29/Mar/2025\\n\\n\\nPublished March 29, 2025Categorized as Classroom notes Tagged ai, artificial-intelligence, data-science, Generativeai, Machine Learning, python \\n\\n\\nPosts pagination\\nPage 1\\n…\\nPage 3\\nOlder posts \\n\\n\\n\\n\\n\\n\\n\\n\\n\\n\\nPowered by WordPress.com.\\t\\t\\t\\n\\n\\n\\n\\n\\n\\n\\n\\n \\n\\n\\n\\xa0\\n\\n\\n\\n\\n\\n\\n\\n\\n\\n\\n\\n\\n\\n\\n\\n\\n\\n\\n\\n\\n\\n\\n\\n\\n\\n\\n\\n\\n\\n\\n\\n\\n\\n\\n\\n\\n\\n\\n\\n\\n\\n\\n\\n\\n\\n\\n\\n\\n\\n\\n\\n\\n\\n\\n\\n\\n\\n\\n\\n\\n\\n\\n\\n\\n\\n\\n\\n\\n\\n\\n\\n\\n\\n\\n\\n\\n\\n\\n\\n\\n\\n\\n\\n\\nLoading Comments...\\n\\n\\n\\n\\xa0\\n\\n\\nWrite a Comment...\\n\\n\\n\\n\\nEmail (Required)\\n\\n\\n\\nName (Required)\\n\\n\\n\\nWebsite\\n\\n\\n\\n\\n\\n\\n\\n\\n\\n\\n\\n\\n\\n\\n\\n\\n\\n\\n\\n\\n\\n\\n\\n\\n\\n\\n\\n\\n\\n\\n\\n\\n\\n\\n\\n\\n\\n\\n\\n\\n\\n\\n\\n\\n\\n\\n\\n\\n\\nai – Direct AI Powered By Quality Thought\\n\\n\\n\\n\\n\\n\\n\\n\\n\\n\\n\\n\\n\\n\\n\\n\\n\\n\\n\\n\\n\\n\\n\\n\\n\\n\\n\\n\\n\\n\\n\\n\\n\\n\\n\\n\\n\\n\\n\\n\\n\\n \\n\\n\\n\\n\\n\\n\\n\\n\\n\\n\\n\\n\\n\\n\\n\\n\\n\\n\\n\\n\\n\\n\\n\\n\\n\\n\\n\\t\\tSkip to content\\t\\n\\n\\n\\nDirect AI Powered By Quality Thought\\n\\n\\n\\n\\nMenu\\t\\t\\t\\t\\t \\nClose\\t\\t\\t\\t\\t \\n\\n\\nHome\\nGen-Ai Classroom Notes\\nContact\\n \\n\\n\\n\\n\\n\\nTag: ai \\n\\n\\nGen-AI Developer Classroom notes 08/May/2025\\n\\nTransformers: Attention is all you need Token: A prompt is broken down into multiple tokens Embeddings: A vector representation of all possible words GPT 3.5 (50k words) Vector: A point in a larger dimension Words can be converted into vectors (Word2Vec) Refer Here for visualization\\n\\n\\nPublished May 8, 2025Categorized as Classroom notes Tagged ai, artificial-intelligence, data-science, Generativeai, Machine Learning, python \\n\\n\\n\\nGen-AI Developer Classroom notes 07/May/2025\\n\\nHow do LLMs Work ? ML On a broder note ML solves three problems predictions classification clustering Usecase: I want to know what would be price of real estate in hyderabad (Supervised learning, Linear Regression) I want to know if the transaction is fraud or not (Classification, Logistic Regression) I want to give movie recommendations… Continue reading Gen-AI Developer Classroom notes 07/May/2025\\n\\n\\nPublished May 7, 2025Categorized as Classroom notes Tagged ai, artificial-intelligence, data-science, Generativeai, Machine Learning, python \\n\\n\\n\\nGen-AI Developer Classroom notes 06/May/2025\\n\\nWhy not use ChatGPT or Gemini Directly All the LLM (Large Language Models) are pre-trained on publicly available information. Then why don’t i use for my needs: LLMS donot have access to private data: My organization has technical manuals, I want to create a chatgpt/gemini kind of solution around user manuals. LLMs can hallucinate LLMs… Continue reading Gen-AI Developer Classroom notes 06/May/2025\\n\\n\\nPublished May 6, 2025Categorized as Classroom notes Tagged ai, artificial-intelligence, data-science, Generativeai, Machine Learning, python \\n\\n\\n\\nGen-AI Developer Classroom notes 03/May/2025\\n\\nLangchain: Memory We have following classes ConversationBufferMemory ConversationBufferWindowMemory ConversationTokenBufferMemory ConversationSummaryMemory Refer Here for the notebook Langchain Primitives The most basic langchain abstract interface is langchain_core.runnables.base.Runnable‘ Refer Here for notebook\\n\\n\\nPublished May 3, 2025Categorized as Classroom notes Tagged ai, artificial-intelligence, data-science, Generativeai, Machine Learning, python \\n\\n\\n\\nGen-AI Developer Classroom notes  29/04/2025\\n\\n\\n\\nPublished April 29, 2025Categorized as Classroom notes Tagged ai, artificial-intelligence, data-science, Generativeai, Machine Learning, python \\n\\n\\n\\nGen-AI Developer Classroom notes 26/Apr/2025\\n\\nChains in Langchain Refer Here for chains api reference Lets explore chains First chain: Lets write a prompt pass the prompt to llm Second chain: Lets write a prompt pass the prompt to llm convert the output to some format Third chain Use Vector database as retriever write a prompt with context Pass the prompt… Continue reading Gen-AI Developer Classroom notes 26/Apr/2025\\n\\n\\nPublished April 26, 2025Categorized as Classroom notes Tagged ai, artificial-intelligence, data-science, Generativeai, Machine Learning, python \\n\\n\\n\\nGen-AI Developer Classroom notes 24/Apr/2025\\n\\nLink to the notebook Refer Here Refer Here for retriever Refer Here for the implementation of text book rag with text Exercise Try building a retriever for a Directai.blog with atleast 10 to 15 pages as source\\n\\n\\nPublished April 24, 2025Categorized as Classroom notes Tagged ai, artificial-intelligence, data-science, Generativeai, Machine Learning, python \\n\\n\\n\\nGen-AI Developer Classroom notes 22/Apr/2025\\n\\nDocument Loaders Document Loaders in langchain Document loaders can read documents and give Document Object Every Document loader is derived from BaseLoader Look into jupyter notebook for text markdown word Many PDF loaders are supported All loaders Chunking Documents using Text Splitters Refer Here for Text Splitters All splitters can split documents based on chunk… Continue reading Gen-AI Developer Classroom notes 22/Apr/2025\\n\\n\\nPublished April 22, 2025Categorized as Classroom notes Tagged ai, artificial-intelligence, data-science, Generativeai, Machine Learning, python \\n\\n\\n\\nGen-AI Developer Classroom notes 17/Apr/2025\\n\\nGoogle AI Studio Lets use google AI Studio to get api keys and use it with langchain GCP Account Creation Lets create a free trail gcp account Set up your account and enabling Compute Engine API Vertex API Install gcloud sdk cli\\n\\n\\nPublished April 17, 2025Categorized as Classroom notes Tagged ai, artificial-intelligence, data-science, Generativeai, Machine Learning, python \\n\\n\\n\\nGen-AI Developer Classroom notes 16/Apr/2025\\n\\nLangChain Chat Models Refer Here for official docs Runnable: This is kind of what almost everything in langchain is derived from Chat Models offer similar interface for different models from differnt providers Providers and Model Names Refer Here for samples\\n\\n\\nPublished April 16, 2025Categorized as Classroom notes Tagged ai, artificial-intelligence, data-science, Generativeai, Machine Learning, python \\n\\n\\n\\nGen-AI Developer Classroom notes 15/Apr/2025\\n\\nReferences Text Models: Restrictive functionality and not all the model are part of text generation models and Refer Here for all possible Text Completion models Prompt Template Refer Here for official docs So lets use a string prompt template Refer Here Refer Here fo the sample do\\n\\n\\nPublished April 15, 2025Categorized as Classroom notes Tagged ai, artificial-intelligence, data-science, Generativeai, Machine Learning, python \\n\\n\\n\\nGen-AI Developer Classroom notes 15/Apr/2025\\n\\nLangchain components LangChain is a powerful framework for building applications that use Large Language Models (LLMs). It modularizes LLM workflows into reusable and extensible components, allowing developers to create complex applications like chatbots, agents, and RAG pipelines. 1. Models (LLMs, ChatModels) Purpose: To interact with language models like OpenAI’s GPT, Anthropic, HuggingFace, etc. Types: LLM:… Continue reading Gen-AI Developer Classroom notes 15/Apr/2025\\n\\n\\nPublished April 15, 2025Categorized as Classroom notes Tagged ai, artificial-intelligence, data-science, Generativeai, Machine Learning, python \\n\\n\\n\\nGen-AI Developer Classroom notes 10/Apr/2025\\n\\nVersion Control Systems A version Control System enables us to store code (Repository) Which enables multi user Which enables multiple versions Git is most popular version control system create by Linus Torvalds Git is a distributed version control system Initial configuration of git hint: Use any git cheatsheet Git commit requires username and email address… Continue reading Gen-AI Developer Classroom notes 10/Apr/2025\\n\\n\\nPublished April 10, 2025Categorized as Classroom notes Tagged ai, artificial-intelligence, data-science, Generativeai, Machine Learning, python \\n\\n\\n\\nGen-AI Developer Classroom notes 09/Apr/2025\\n\\nModels in Hugging face Explore SpaceHub Models: Refer Here Embeddings from hugging face models Try writing a simple code using hugging face transformers for question answering from transformers import pipeline model_id = ” pipeline(‘<nlp-question>’, model=model_id, …) lets try question answering and image classification Refer Here for the Colab Notebook\\n\\n\\nPublished April 9, 2025Categorized as Classroom notes Tagged ai, artificial-intelligence, data-science, Generativeai, Machine Learning, python \\n\\n\\n\\nGen-AI Developer Classroom notes 08/Apr/2025\\n\\nNLP (Natural Language Processing) Basic Tasks: Sentiment Analysis Summarizations Question Answering NER Hugging Face Account Creation Hugging face transformers are based on deep learning and to run deep learning models, we need to install torch Tensorflow Running Python code Locally Google Colab Basic coding approach Create a pipeline proceed with some nlp task Simple Setup… Continue reading Gen-AI Developer Classroom notes 08/Apr/2025\\n\\n\\nPublished April 8, 2025Categorized as Classroom notes Tagged ai, artificial-intelligence, data-science, Generativeai, Machine Learning, python \\n\\n\\n\\nGen-AI Developer Classroom notes 07/Apr/2025\\n\\nProblem We have a text book, primary with text and also some images. We need to parse the text from pdf file and also images Relation between chunk and token A document is broken down into chunks. Chunk will have multiple tokens Note: If using a llm model ensure chunk does not have more tokens… Continue reading Gen-AI Developer Classroom notes 07/Apr/2025\\n\\n\\nPublished April 7, 2025Categorized as Classroom notes Tagged ai, artificial-intelligence, data-science, Generativeai, Machine Learning, python \\n\\n\\n\\nGen-AI Developer Classroom notes 04/Apr/2025\\n\\nLets Build an Agent for Schools (For the future sessions) Basic Idea: Make AI agent prepare question papers Also make it analyze the results and guide student with improvement areas and references to work on Lets Build a RAG for Students Basic Idea: RAG which is based on standard text books of boards A student… Continue reading Gen-AI Developer Classroom notes 04/Apr/2025\\n\\n\\nPublished April 4, 2025Categorized as Classroom notes Tagged ai, artificial-intelligence, data-science, Generativeai, Machine Learning, python \\n\\n\\n\\nGen-AI Developer Classroom notes 03/Apr/2025\\n\\nVector Databases Vector Databases store vectors in higher dimensions The text/images are converted into chunks and then into vectors by embeddings. Vectors are stored in the vector databases which can now help in similarity search. Usecases of Vector Databases Product search by uploading image Recommendation engines Facial recognitions How do Vector Databases search for similar… Continue reading Gen-AI Developer Classroom notes 03/Apr/2025\\n\\n\\nPublished April 3, 2025Categorized as Classroom notes Tagged ai, artificial-intelligence, data-science, Generativeai, Machine Learning, python \\n\\n\\n\\nGen-AI Developer Classroom notes 01/Apr/2025\\n\\nDemonstration of a Very simple RAG Watch classroom recording for sbi home insurance policy alibaba 40 theives harry potter Installing ollama We will be using ollama to run smaller models on our laptops Refer Here for downloading ollama Now lets run a simple model on ollama\\n\\n\\nPublished April 1, 2025Categorized as Classroom notes Tagged ai, artificial-intelligence, data-science, Generativeai, Machine Learning, python \\n\\n\\n\\nGen-AI Developer Classroom notes 29/Mar/2025\\n\\nRAG (Retrieval Augemented Generation) This concept was termed by facebook. Basic LLM (Prompt/Chat interface) Most of the LLMs are trained on publicly available information (Website, Books, articles …..) I want LLM to generate responses on my organization data Building a LLM: Costly RAG’s kind of solve this problem RAG Conceptually has two layer Retriever Generator:… Continue reading Gen-AI Developer Classroom notes 29/Mar/2025\\n\\n\\nPublished March 29, 2025Categorized as Classroom notes Tagged ai, artificial-intelligence, data-science, Generativeai, Machine Learning, python \\n\\n\\nPosts pagination\\nPage 1\\n…\\nPage 3\\nOlder posts \\n\\n\\n\\n\\n\\n\\n\\n\\n\\n\\nPowered by WordPress.com.\\t\\t\\t\\n\\n\\n\\n\\n\\n\\n\\n\\n \\n\\n\\n\\xa0\\n\\n\\n\\n\\n\\n\\n\\n\\n\\n\\n\\n\\n\\n\\n\\n\\n\\n\\n\\n\\n\\n\\n\\n\\n\\n\\n\\n\\n\\n\\n\\n\\n\\n\\n\\n\\n\\n\\n\\n\\n\\n\\n\\n\\n\\n\\n\\n\\n\\n\\n\\n\\n\\n\\n\\n\\n\\n\\n\\n\\n\\n\\n\\n\\n\\n\\n\\n\\n\\n\\n\\n\\n\\n\\n\\n\\n\\n\\n\\n\\n\\n\\n\\n\\nLoading Comments...\\n\\n\\n\\n\\xa0\\n\\n\\nWrite a Comment...\\n\\n\\n\\n\\nEmail (Required)\\n\\n\\n\\nName (Required)\\n\\n\\n\\nWebsite\\n\\n\\n\\n\\n\\n\\n\\n\\n\\n\\n\\n\\n\\n\\n\\n\\n\\n\\n\\n\\n\\n\\n\\n\\n\\n\\n\\n\\n\\n\\n\\n\\n\\n\\n\\n\\n\\n\\n\\n\\n\\n\\n\\n\\n\\n', additional_kwargs={}, response_metadata={})]\n",
      "Human: What is my name?\n",
      "AI:\u001b[0m\n",
      "\n",
      "\u001b[1m> Finished chain.\u001b[0m\n"
     ]
    },
    {
     "data": {
      "text/plain": [
       "'Your name is Praneeth.\\n'"
      ]
     },
     "execution_count": 106,
     "metadata": {},
     "output_type": "execute_result"
    }
   ],
   "source": [
    "conversation.predict(input=\"What is my name?\")\n"
   ]
  }
 ],
 "metadata": {
  "kernelspec": {
   "display_name": ".venv",
   "language": "python",
   "name": "python3"
  },
  "language_info": {
   "codemirror_mode": {
    "name": "ipython",
    "version": 3
   },
   "file_extension": ".py",
   "mimetype": "text/x-python",
   "name": "python",
   "nbconvert_exporter": "python",
   "pygments_lexer": "ipython3",
   "version": "3.11.8"
  }
 },
 "nbformat": 4,
 "nbformat_minor": 5
}
