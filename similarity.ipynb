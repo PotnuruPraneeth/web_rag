{
 "cells": [
  {
   "cell_type": "markdown",
   "id": "ebaf99dc",
   "metadata": {},
   "source": [
    "| Method                                  | LangChain/Vector Store Function                         | Description                                                                             |\n",
    "| --------------------------------------- | ------------------------------------------------------- | --------------------------------------------------------------------------------------- |\n",
    "| **Basic Similarity Search**             | `similarity_search(query, k=3)`                         | Returns top-k most similar documents (no scores).                                       |\n",
    "| **Similarity Search with Score**        | `similarity_search_with_score(query, k=3)`              | Returns top-k documents **with similarity distance scores**. Useful for filtering.      |\n",
    "| **MMR (Max Marginal Relevance) Search** | `max_marginal_relevance_search(query, k=5, fetch_k=20)` | Diversifies results to avoid redundancy. Great when documents may be too similar.       |\n",
    "| **Hybrid Search** (if supported)        | Combines semantic + keyword search                      | Some vector DBs like **Weaviate** or **Pinecone** support this natively. Not in Chroma. |\n",
    "| **Filtered Search**                     | `similarity_search(..., filter={\"type\": \"policy\"})`     | Filter by metadata (e.g. only docs with tag \"finance\").                                 |\n"
   ]
  },
  {
   "cell_type": "code",
   "execution_count": null,
   "id": "f50ff670",
   "metadata": {
    "vscode": {
     "languageId": "plaintext"
    }
   },
   "outputs": [],
   "source": [
    "What fetch_k=20 means:\n",
    "fetch_k is the number of initial documents to retrieve from the vector store based purely on similarity to the query.\n",
    "These 20 documents are then reranked using Max Marginal Relevance (MMR) to select the top k = 5 documents that are:\n",
    "***Relevant to the query, and\n",
    "***Diverse from each other (less redundancy).\n",
    "\n",
    "| Parameter    | Meaning                                                       |\n",
    "| ------------ | ------------------------------------------------------------- |\n",
    "| `fetch_k=20` | Pull 20 relevant docs based on similarity.                    |\n",
    "| `k=5`        | Select the 5 most relevant *and diverse* documents to return. |\n"
   ]
  },
  {
   "cell_type": "markdown",
   "id": "b2835a22",
   "metadata": {},
   "source": [
    "1. Similarity Threshold Filtering (Manual Check)\n",
    "Instead of directly checking scores like in the previous method, you can compute the cosine similarity yourself and define a stricter condition."
   ]
  },
  {
   "cell_type": "code",
   "execution_count": null,
   "id": "d4620556",
   "metadata": {
    "vscode": {
     "languageId": "plaintext"
    }
   },
   "outputs": [],
   "source": [
    "from langchain.vectorstores import FAISS\n",
    "from langchain.embeddings import OpenAIEmbeddings\n",
    "from sklearn.metrics.pairwise import cosine_similarity\n",
    "\n",
    "# Embed query\n",
    "query_embedding = embedding.embed_query(query)\n",
    "\n",
    "# Get top document and its embedding\n",
    "results = vectorstore.similarity_search_with_score(query, k=1)\n",
    "if results:\n",
    "    top_doc, score = results[0]\n",
    "    doc_embedding = embedding.embed_query(top_doc.page_content)\n",
    "\n",
    "    # Compute cosine similarity manually\n",
    "    similarity = cosine_similarity([query_embedding], [doc_embedding])[0][0] # why [0][0] means to get this  [[0.98]]\n",
    "\n",
    "\n",
    "    if similarity > 0.75:  # Custom threshold\n",
    "        # Call LLM\n",
    "        ...\n",
    "    else:\n",
    "        print(\"Query is too different. Skipping LLM.\")\n",
    "\n",
    "\n",
    "cosine_similarity--\n",
    "Higher similarity score → more similar\n",
    "\n",
    "Lower similarity score → less similar\n",
    "\n"
   ]
  },
  {
   "cell_type": "markdown",
   "id": "f77b0dc5",
   "metadata": {},
   "source": [
    "2. Use Metadata Filtering Before Similarity Search\n",
    "If your vector store stores metadata (e.g. topics, tags), you can filter queries based on that first."
   ]
  },
  {
   "cell_type": "code",
   "execution_count": null,
   "id": "0679a160",
   "metadata": {
    "vscode": {
     "languageId": "plaintext"
    }
   },
   "outputs": [],
   "source": [
    "# Chroma or Pinecone example\n",
    "results = vectorstore.similarity_search(\n",
    "    query, \n",
    "    k=1, \n",
    "    filter={\"category\": \"health\"}  # Only search in health-related documents\n",
    ")\n",
    "\n",
    "if results:\n",
    "    # Proceed to LLM\n",
    "    ...\n",
    "else:\n",
    "    print(\"No documents found for this category.\")\n"
   ]
  },
  {
   "cell_type": "markdown",
   "id": "fe0f7e3e",
   "metadata": {},
   "source": [
    "4. Use a Keyword Search (Pre-filter) Before Vector Search\n",
    "Before even embedding the query, perform a keyword search on a document index or summary file.\n",
    "\n",
    "If keywords match → go to vector search\n",
    "\n",
    "If not → skip"
   ]
  },
  {
   "cell_type": "code",
   "execution_count": null,
   "id": "287c14e1",
   "metadata": {
    "vscode": {
     "languageId": "plaintext"
    }
   },
   "outputs": [],
   "source": [
    "if \"hypertension\" in query.lower():\n",
    "    # Proceed to vector search + LLM\n",
    "else:\n",
    "    print(\"Query does not match keyword criteria.\")\n"
   ]
  }
 ],
 "metadata": {
  "language_info": {
   "name": "python"
  }
 },
 "nbformat": 4,
 "nbformat_minor": 5
}
