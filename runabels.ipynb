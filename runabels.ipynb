{
 "cells": [
  {
   "cell_type": "code",
   "execution_count": 1,
   "metadata": {},
   "outputs": [
    {
     "data": {
      "text/plain": [
       "{'mul_2': 4, 'mul_5': 10}"
      ]
     },
     "execution_count": 1,
     "metadata": {},
     "output_type": "execute_result"
    }
   ],
   "source": [
    "from langchain_core.runnables import RunnableLambda\n",
    "\n",
    "# A RunnableSequence constructed using the `|` operator\n",
    "sequence = RunnableLambda(lambda x: x + 1) | RunnableLambda(lambda x: x * 2)\n",
    "sequence.invoke(1) # 4\n",
    "sequence.batch([1, 2, 3]) # [4, 6, 8]\n",
    "\n",
    "\n",
    "# A sequence that contains a RunnableParallel constructed using a dict literal\n",
    "sequence = RunnableLambda(lambda x: x + 1) | {\n",
    "    'mul_2': RunnableLambda(lambda x: x * 2),\n",
    "    'mul_5': RunnableLambda(lambda x: x * 5)\n",
    "}\n",
    "sequence.invoke(1) # {'mul_2': 4, 'mul_5': 10}"
   ]
  },
  {
   "cell_type": "markdown",
   "metadata": {},
   "source": [
    "1. (X or None) means (config: Optional[RunnableConfig] = None)\n",
    "2. from typing import Optional\n",
    "3. config: Optional[RunnableConfig] or config: Union[RunnableConfig, None]\n",
    "\n"
   ]
  },
  {
   "cell_type": "code",
   "execution_count": null,
   "metadata": {},
   "outputs": [],
   "source": [
    "def example(config: Optional[int] = None):\n",
    "    if config is None:\n",
    "        print(\"Nothing passed\")\n",
    "    else:\n",
    "        print(f\"Received: {config}\")\n",
    "example()        # prints: Nothing passed\n",
    "example(5)       # prints: Received: 5\n"
   ]
  },
  {
   "cell_type": "markdown",
   "metadata": {},
   "source": [
    "Runnable[InputType, OutputType]\n",
    "A Runnable in LangChain is a building block—a class or function that:\n",
    "\n",
    "Takes some input\n",
    "\n",
    "Does some processing\n",
    "\n",
    "Returns an output\n",
    "Think of it like a pipe in a pipeline.\n",
    "\n",
    "LangChain allows building chains of logic, like:\n",
    "\n",
    "Get input from the user\n",
    "\n",
    "Process it with a model\n",
    "\n",
    "Post-process the result\n",
    "\n",
    "Return output"
   ]
  },
  {
   "cell_type": "markdown",
   "metadata": {},
   "source": [
    "config: Optional[RunnableConfig] = None, **kwargs\n",
    "1. config is a named argument.\n",
    "\n",
    "It can either be:\n",
    "\n",
    "A RunnableConfig object (used internally by LangChain to control behavior like tracing, callbacks, metadata, etc.)\n",
    "\n",
    "Or None (if you don’t want to pass any configuration).\n",
    "\n",
    "The Optional[...] part just means: it can be None"
   ]
  },
  {
   "cell_type": "code",
   "execution_count": null,
   "metadata": {},
   "outputs": [],
   "source": [
    "from langchain_core.runnables import RunnableLambda, RunnableConfig\n",
    "from typing import Optional\n",
    "\n",
    "# Step 1: Define function that uses metadata\n",
    "def add_based_on_config(x: int, config: Optional[RunnableConfig] = None) -> int:\n",
    "    if config and config.metadata.get(\"double_increment\"): #The if config part ensures: The function won’t crash when accessing .metadata \n",
    "                                                           #It only checks .metadata if config exists\n",
    "        print(\"Adding 10 (double increment enabled)\")\n",
    "        return x + 10\n",
    "    else:\n",
    "        print(\"Adding 5 (normal increment)\")\n",
    "        return x + 5\n",
    "\n",
    "# Step 2: Define another function to convert number to string\n",
    "def to_str(x: int) -> str:\n",
    "    return f\"Final result is: {x}\"\n",
    "\n",
    "# Step 3: Wrap in RunnableLambda\n",
    "add_chain = RunnableLambda(add_based_on_config)\n",
    "to_str_chain = RunnableLambda(to_str)\n",
    "\n",
    "# Step 4: Combine them into a pipeline\n",
    "pipeline = add_chain | to_str_chain\n",
    "\n",
    "# Step 5: Create different configs\n",
    "normal_config = RunnableConfig(\n",
    "    tags=[\"simple_add\"],\n",
    "    metadata={\"double_increment\": False}\n",
    ")\n",
    "\n",
    "double_config = RunnableConfig(\n",
    "    tags=[\"double_add\"],\n",
    "    metadata={\"double_increment\": True}\n",
    ")\n",
    "\n",
    "# Step 6: Run with both configs\n",
    "print(\"----- Normal Config -----\")\n",
    "print(pipeline.invoke(3, config=normal_config))  # Output: Final result is: 8\n",
    "\n",
    "print(\"----- Double Config -----\")\n",
    "print(pipeline.invoke(3, config=double_config))  # Output: Final result is: 13\n"
   ]
  },
  {
   "cell_type": "code",
   "execution_count": null,
   "metadata": {},
   "outputs": [],
   "source": [
    "**kwargs\n",
    "2. This means “any extra keyword arguments” that aren’t explicitly defined.\n",
    "\n",
    "It collects additional named arguments passed when the method is called.\n",
    "\n",
    "You can ignore them, use them, or pass them down to subcomponents.\n",
    "\n",
    "chain.invoke(5, user=\"John\", temperature=0.8)\n",
    "\n",
    "5 is the input\n",
    "\n",
    "user and temperature are captured by **kwargs\n"
   ]
  },
  {
   "cell_type": "code",
   "execution_count": 2,
   "metadata": {},
   "outputs": [],
   "source": [
    "from langchain_core.runnables import RunnableLambda"
   ]
  },
  {
   "cell_type": "code",
   "execution_count": 3,
   "metadata": {},
   "outputs": [],
   "source": [
    "from langchain_core.runnables import Runnable, RunnableConfig\n"
   ]
  },
  {
   "cell_type": "code",
   "execution_count": 4,
   "metadata": {},
   "outputs": [],
   "source": [
    "run= RunnableLambda(lambda x:x+7)\n"
   ]
  },
  {
   "cell_type": "code",
   "execution_count": 5,
   "metadata": {},
   "outputs": [
    {
     "data": {
      "text/plain": [
       "8"
      ]
     },
     "execution_count": 5,
     "metadata": {},
     "output_type": "execute_result"
    }
   ],
   "source": [
    "run.invoke(1)"
   ]
  },
  {
   "cell_type": "code",
   "execution_count": 29,
   "metadata": {},
   "outputs": [],
   "source": [
    "def add_number(num:int)->int:\n",
    "    num=num+3\n",
    "    return num\n",
    "def print_in_str(num:int) ->str:\n",
    "    return f\" str is {num}\"\n"
   ]
  },
  {
   "cell_type": "code",
   "execution_count": 30,
   "metadata": {},
   "outputs": [],
   "source": [
    "from typing import Optional #--> is like or conditional"
   ]
  },
  {
   "cell_type": "code",
   "execution_count": null,
   "metadata": {},
   "outputs": [],
   "source": [
    "class Chains(Runnable[int,str]):#-->runnable is a pipeline and is a langchain class which gives or tells that output and input types \n",
    "    def invoke(self, input:int, config :Optional[RunnableConfig] = None, **kwargs):#--> config is for metadata to get, kwargs is that which tells\n",
    "                                                                                          # any additional variables are passing it accept\n",
    "        increment = add_number(input)\n",
    "        return print_in_str(increment)# passing the return vale of the increment"
   ]
  },
  {
   "cell_type": "code",
   "execution_count": 32,
   "metadata": {},
   "outputs": [
    {
     "data": {
      "text/plain": [
       "' str is 5'"
      ]
     },
     "execution_count": 32,
     "metadata": {},
     "output_type": "execute_result"
    }
   ],
   "source": [
    "chain1=Chains()\n",
    "chain1.invoke(2)\n"
   ]
  },
  {
   "cell_type": "code",
   "execution_count": null,
   "metadata": {},
   "outputs": [],
   "source": [
    "chain = ( RunnableLambda(add_number) | RunnableLambda(print_in_str) )\n",
    "'''RunnableLambda(func) wraps any function as a LangChain-compatible Runnable.\n",
    "\n",
    "The | operator pipes the output of the first function to the input of the next.\n",
    "\n",
    "invoke(3):'''"
   ]
  },
  {
   "cell_type": "code",
   "execution_count": 34,
   "metadata": {},
   "outputs": [
    {
     "data": {
      "text/plain": [
       "' str is 6'"
      ]
     },
     "execution_count": 34,
     "metadata": {},
     "output_type": "execute_result"
    }
   ],
   "source": [
    "chain.invoke(3)"
   ]
  }
 ],
 "metadata": {
  "kernelspec": {
   "display_name": ".venv",
   "language": "python",
   "name": "python3"
  },
  "language_info": {
   "codemirror_mode": {
    "name": "ipython",
    "version": 3
   },
   "file_extension": ".py",
   "mimetype": "text/x-python",
   "name": "python",
   "nbconvert_exporter": "python",
   "pygments_lexer": "ipython3",
   "version": "3.11.8"
  }
 },
 "nbformat": 4,
 "nbformat_minor": 2
}
