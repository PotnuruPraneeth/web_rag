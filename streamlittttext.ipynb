{
 "cells": [
  {
   "cell_type": "markdown",
   "id": "e111060e",
   "metadata": {},
   "source": [
    "''' Yes, you can check if a query doesn't match any content in your vector database before sending it to the LLM, and this is a smart way to save on costs.\n",
    "\n",
    "1. ✅ How to Do It:\n",
    "When you perform a vector similarity search (e.g., using FAISS, Pinecone, Weaviate, Chroma, etc.), the response typically includes:\n",
    "\n",
    "The top-k documents (or vectors)\n",
    "\n",
    "Their similarity scores (e.g., cosine similarity or distance)\n",
    "\n",
    "🧠 Strategy to Detect “No Match”:\n",
    "Set a similarity threshold\n",
    "Define a cutoff score, like 0.75 for cosine similarity (depends on your embedding model and use case).\n",
    "If all retrieved documents are below this threshold, assume no good match found.\n",
    "\n",
    "Check top result only (or average top-k scores)\n",
    "If the top document has a very low score (e.g., 0.2), it's probably noise.\n",
    "\n",
    "Logic example:\n",
    "\n",
    "python\n",
    "Copy\n",
    "Edit\n",
    "if top_score < threshold:\n",
    "    return \"No relevant content found. Please rephrase your question.\"\n",
    "else:\n",
    "    # proceed to LLM with the retrieved context\n",
    "Alternative approach:\n",
    "Embed the query and calculate the distance to the nearest neighbor manually. If it’s too far, avoid sending to the LLM.\n",
    "\n",
    "'''\n",
    "'''img_file.read()\n",
    "Reads the image file (.jpg) in binary format.\n",
    "\n",
    "Example output: b'\\xff\\xd8\\xff\\xe0\\x00\\x10JFIF...' (binary data of the image)\n"
   ]
  },
  {
   "cell_type": "markdown",
   "id": "75d3a535",
   "metadata": {},
   "source": [
    "2. base64.b64encode(...)\n",
    "Encodes the binary data into a base64 format, which is a way to represent binary data as text.\n",
    "\n",
    "This is important because HTML/CSS (in style tags) cannot use raw binary, but they can handle base64 text.\n",
    "\n",
    "3. .decode()\n",
    "Converts the base64 bytes (like b'/9j/4AAQSkZJRgABAQAAAQABAAD...') into a regular UTF-8 string.\n",
    "\n",
    "Final output: 'base64_string_here...'\n",
    "✅ Why it's Used\n",
    "Browsers can't read a local file path like C:/something.jpg from Python directly, but they can read an embedded image in base64 like this:\n",
    "\n",
    "css\n",
    "background-image: url(\"data:image/jpg;base64,/9j/4AAQSkZJRgAB...etc...\");'''\n"
   ]
  },
  {
   "cell_type": "markdown",
   "id": "e0ce9056",
   "metadata": {},
   "source": [
    "4. ''' 🔹 CSS (Inside <style>...</style>)\n",
    "This defines how things look. It's like giving \"style instructions\".\n",
    "1. \n",
    "<style>\n",
    ".black-background {\n",
    "    background-color: black;\n",
    "    padding: 50px 0;\n",
    "    text-align: center;\n",
    "}\n",
    "****🔍 What this does:\n",
    ".black-background: This targets any element with the class name black-background.\n",
    "\n",
    "background-color: black;: Sets the background of that section to black.\n",
    "\n",
    "padding: 50px 0;: Adds space above and below the section (50px top and bottom, 0px left and right).\n",
    "\n",
    "text-align: center;: Centers any text or inline elements inside the block horizontally.\n",
    "\n",
    "2.\n",
    "***css\n",
    ".black-background h1 {\n",
    "    font-size: 100px;\n",
    "    color: white;\n",
    "    margin: 0;\n",
    "}\n",
    "🔍 What this does:\n",
    ".black-background h1: This specifically styles the <h1> heading only inside .black-background.\n",
    "\n",
    "font-size: 100px;: Makes the text (AI 🤖) very large.\n",
    "\n",
    "color: white;: Sets the text color to white so it’s visible on the black background.\n",
    "\n",
    "margin: 0;: Removes any default spacing around the heading to keep it tight.\n",
    "\n",
    "🔹 HTML Content (Visible Structure)\n",
    "html\n",
    "Copy\n",
    "Edit\n",
    "<div class=\"black-background\">\n",
    "    <h1>AI 🤖</h1>\n",
    "</div>\n",
    "🔍 What this does:\n",
    "<div class=\"black-background\">: Creates a block container (like a section) with the black background and centered styling.\n",
    "\n",
    "<h1>AI 🤖</h1>: This is your main heading text showing a big \"AI 🤖\" emoji, styled with the rules above.\n",
    "\n",
    "Final Result:\n",
    "This creates a centered black banner section with a large white “AI 🤖” emoji inside it. '''\n",
    "\n",
    "'''  What is <span> in HTML?\n",
    "<span> is an inline HTML tag used to style or highlight a part of text without breaking the layout or creating a new block like a paragraph (<p>) or heading (<h1>).\n",
    "\n",
    "✅ Why use <span>?\n",
    "Because it's perfect for:\n",
    "Coloring part of a sentence\n",
    "Changing font size or weight of some text\n",
    "Applying custom styles to inline text '''\n",
    "'''<p>This is a <span style=\"color:red;\">red word</span> in a sentence.</p>\n",
    "'''"
   ]
  },
  {
   "cell_type": "markdown",
   "id": "f6346f17",
   "metadata": {},
   "source": [
    "with st.expander(\"See retrieved documents and scores\"):\n",
    "Users can click to expand or hide the results."
   ]
  },
  {
   "cell_type": "markdown",
   "id": "34aba4ae",
   "metadata": {},
   "source": [
    "for i, (doc, score) in enumerate(results_with_scores):\n",
    "Loops over the list of (Document, score) pairs returned by similarity_search_with_score().\n",
    "i is the index (0, 1, 2, ...), doc is the document, and score is the similarity score."
   ]
  },
  {
   "cell_type": "code",
   "execution_count": null,
   "id": "16d3799a",
   "metadata": {
    "vscode": {
     "languageId": "plaintext"
    }
   },
   "outputs": [],
   "source": [
    "st.markdown(f\"**Document {i+1} (score: {score:.2f})**\")\n",
    "dispaly like this :\n",
    "  **Document 1 (score: 0.91)**\n",
    "**Document 2 (score: 0.86)**\n",
    ".2f means the score is rounded to 2 decimal places."
   ]
  },
  {
   "cell_type": "markdown",
   "id": "d4e28bbd",
   "metadata": {},
   "source": [
    "st.code(doc.page_content[:1000] + (\"...\" if len(doc.page_content) > 1000 else \"\"))\n",
    "\n",
    "Displays up to 1000 characters of the document content using a code-style block (st.code()).\n",
    "\n",
    "If the document is longer than 1000 characters, it appends \"...\" to indicate the content is truncated."
   ]
  },
  {
   "cell_type": "markdown",
   "id": "9d91587c",
   "metadata": {},
   "source": [
    "join() means in Python:\n",
    "The join() function in Python combines items in a list into one string, using a separator that you choose.\n",
    "combined_text = \"\\n\\n\".join(doc.page_content for doc in filtered_docs)\n",
    "[\"doc one\", \"doc two\", \"doc three\"]\n",
    "means --> Combine all the document texts (doc.page_content) from filtered_docs\n",
    "Put two line breaks (\\n\\n) between each one"
   ]
  }
 ],
 "metadata": {
  "language_info": {
   "name": "python"
  }
 },
 "nbformat": 4,
 "nbformat_minor": 5
}
